{
 "cells": [
  {
   "cell_type": "markdown",
   "metadata": {
    "id": "yQGvqpMQBrrM"
   },
   "source": [
    "Autores:\n",
    "\n",
    "- Ronaldo Lopes Inocêncio Júnior\n",
    "- Filipe Loyola Lopes\n",
    "- Victor Castro Nacif de Faria"
   ]
  },
  {
   "cell_type": "markdown",
   "metadata": {
    "id": "-EF37lWdB4dk"
   },
   "source": [
    "# 0.0 - Imports"
   ]
  },
  {
   "cell_type": "code",
   "execution_count": null,
   "metadata": {
    "colab": {
     "base_uri": "https://localhost:8080/"
    },
    "id": "M98Jk1Sv9Pyd",
    "outputId": "03f683db-0838-43b0-9623-ff6d8d1342c0"
   },
   "outputs": [
    {
     "name": "stdout",
     "output_type": "stream",
     "text": [
      "Collecting igraph\n",
      "  Downloading igraph-0.9.9-cp37-cp37m-manylinux_2_17_x86_64.manylinux2014_x86_64.whl (3.1 MB)\n",
      "\u001b[K     |████████████████████████████████| 3.1 MB 17.1 MB/s \n",
      "\u001b[?25hCollecting texttable>=1.6.2\n",
      "  Downloading texttable-1.6.4-py2.py3-none-any.whl (10 kB)\n",
      "Installing collected packages: texttable, igraph\n",
      "Successfully installed igraph-0.9.9 texttable-1.6.4\n"
     ]
    }
   ],
   "source": [
    "!pip install igraph"
   ]
  },
  {
   "cell_type": "code",
   "execution_count": 1,
   "metadata": {
    "ExecuteTime": {
     "end_time": "2022-03-29T22:55:35.226496Z",
     "start_time": "2022-03-29T22:55:34.433162Z"
    },
    "id": "9sgNmrTS9S3V"
   },
   "outputs": [],
   "source": [
    "import igraph as ig\n",
    "import numpy as np\n",
    "import pandas as pd\n",
    "import math\n",
    "import matplotlib.pyplot as plt\n",
    "import time\n",
    "import random\n",
    "import json\n",
    "import functools\n",
    "import os"
   ]
  },
  {
   "cell_type": "markdown",
   "metadata": {
    "id": "Psv1s47NBwUn"
   },
   "source": [
    "## 0.1 - Funções de Auxílio"
   ]
  },
  {
   "cell_type": "code",
   "execution_count": null,
   "metadata": {
    "id": "FIQ_sDMoB24c"
   },
   "outputs": [],
   "source": [
    "def graph_network_description(graph):\n",
    "    amount_vertices = graph.vcount()\n",
    "    amount_edges = graph.ecount()\n",
    "    diameter = graph.diameter()\n",
    "    \n",
    "    return {\n",
    "        'amount_vertices': amount_vertices,\n",
    "        'amount_edges': amount_edges,\n",
    "        'diameter': diameter\n",
    "    }\n",
    "\n",
    "def define_grupo(grupo):\n",
    "    if grupo == 'GRUPO_0':\n",
    "        return 0\n",
    "    elif grupo == 'GRUPO_1':\n",
    "        return 1\n",
    "    elif grupo == 'GRUPO_2':\n",
    "        return 2\n",
    "    else:\n",
    "        return 3\n",
    "\n",
    "def fast_greedy_modularity(graph, n_clusters=None):\n",
    "    dendogram = graph.community_fastgreedy()\n",
    "\n",
    "    if n_clusters:\n",
    "        clusters = dendogram.as_clustering(n=n_clusters)\n",
    "    else:\n",
    "        clusters = dendogram.as_clustering()\n",
    "\n",
    "    Q = graph.modularity(clusters)\n",
    "\n",
    "    return round(Q, 5), len(clusters)\n",
    "\n",
    "def modularity_with_cluster(graph, clusters):\n",
    "    return round(graph.modularity(clusters), 5)\n",
    "\n",
    "def exame_esta_no_intervalo_de_similaridade(valor_do_exame_i, valor_do_exame_j, nome_do_exame):\n",
    "    valor_min = valor_do_exame_i - std_dict[nome_do_exame]\n",
    "    valor_max = valor_do_exame_i + std_dict[nome_do_exame]\n",
    "\n",
    "    if valor_do_exame_j >= valor_min and valor_do_exame_j < valor_max:\n",
    "        return True\n",
    "    else:\n",
    "        return False\n",
    "\n",
    "def cria_estrutura_de_pontuacao():\n",
    "    score_exames = {}\n",
    "\n",
    "    for i in range(df2.shape[0]):\n",
    "        score_exames[f\"{i}\"] = {}\n",
    "        for j in range(i+1, df2.shape[0]):\n",
    "            score = 0\n",
    "            for exame in exames:\n",
    "                exame_values = df2[exame].values\n",
    "\n",
    "                valor_do_exame_i = exame_values[i]\n",
    "                valor_do_exame_j = exame_values[j]\n",
    "\n",
    "            if exame_esta_no_intervalo_de_similaridade(valor_do_exame_i, valor_do_exame_j, exame):\n",
    "                score = score + 1\n",
    "                score_exames[f\"{i}\"][f\"{j}\"] = score\n",
    "\n",
    "    with open('score.json', 'w') as fp:\n",
    "        json.dump(score_exames, fp)\n",
    "\n",
    "def load_estrutura_de_pontuacao():\n",
    "    json_file = open('score.json', \"r\")\n",
    "\n",
    "    return json.loads(json_file.read())\n",
    "\n",
    "def define_conexoes_entre_vertices(score_exames, quantidade_de_exames_similares):\n",
    "    edge_list = []\n",
    "    for i in range(df2.shape[0]):\n",
    "        pontuacao_dos_vertices = score_exames[f\"{i}\"]\n",
    "\n",
    "        for vertice in pontuacao_dos_vertices.keys():\n",
    "            if pontuacao_dos_vertices[vertice] >= quantidade_de_exames_similares:\n",
    "                edge_list.append((i,int(vertice)))\n",
    "\n",
    "    return edge_list"
   ]
  },
  {
   "cell_type": "markdown",
   "metadata": {
    "id": "tVW02bGRDIbX"
   },
   "source": [
    "# 1.0 - Leitura e Modelagem dos Dados"
   ]
  },
  {
   "cell_type": "code",
   "execution_count": null,
   "metadata": {
    "id": "l8XW6OndDNWo"
   },
   "outputs": [],
   "source": [
    "df_raw = pd.read_csv('sirio_aprendizado_v3.csv', sep='|')"
   ]
  },
  {
   "cell_type": "code",
   "execution_count": null,
   "metadata": {
    "id": "_R7R9GrpDcSH"
   },
   "outputs": [],
   "source": [
    "df_raw.drop(columns=['Unnamed: 0'], inplace=True)\n",
    "df1 = df_raw.copy()"
   ]
  },
  {
   "cell_type": "code",
   "execution_count": null,
   "metadata": {
    "colab": {
     "base_uri": "https://localhost:8080/",
     "height": 240
    },
    "id": "FTx_LpdnjqKm",
    "outputId": "97f6f04c-20a1-405e-f986-b0082d0f1e26"
   },
   "outputs": [
    {
     "data": {
      "text/html": [
       "\n",
       "  <div id=\"df-8258253b-8e6a-4310-a08c-7059ecea8942\">\n",
       "    <div class=\"colab-df-container\">\n",
       "      <div>\n",
       "<style scoped>\n",
       "    .dataframe tbody tr th:only-of-type {\n",
       "        vertical-align: middle;\n",
       "    }\n",
       "\n",
       "    .dataframe tbody tr th {\n",
       "        vertical-align: top;\n",
       "    }\n",
       "\n",
       "    .dataframe thead th {\n",
       "        text-align: right;\n",
       "    }\n",
       "</style>\n",
       "<table border=\"1\" class=\"dataframe\">\n",
       "  <thead>\n",
       "    <tr style=\"text-align: right;\">\n",
       "      <th></th>\n",
       "      <th>ID_PACIENTE</th>\n",
       "      <th>GRUPO</th>\n",
       "      <th>Idade</th>\n",
       "      <th>Sexo</th>\n",
       "      <th>ALT (TGP)</th>\n",
       "      <th>AST (TGO)</th>\n",
       "      <th>Basófilos</th>\n",
       "      <th>Basófilos (%)</th>\n",
       "      <th>CHCM</th>\n",
       "      <th>Creatinina</th>\n",
       "      <th>...</th>\n",
       "      <th>Neutrófilos (%)</th>\n",
       "      <th>Plaquetas</th>\n",
       "      <th>Potássio</th>\n",
       "      <th>Proteína C-Reativa</th>\n",
       "      <th>RDW</th>\n",
       "      <th>Sódio</th>\n",
       "      <th>Uréia</th>\n",
       "      <th>VCM</th>\n",
       "      <th>Volume plaquetário médio</th>\n",
       "      <th>SEXO</th>\n",
       "    </tr>\n",
       "  </thead>\n",
       "  <tbody>\n",
       "    <tr>\n",
       "      <th>0</th>\n",
       "      <td>00017961865C4F766FDBB3CD8FE0BFB0</td>\n",
       "      <td>GRUPO_0</td>\n",
       "      <td>54</td>\n",
       "      <td>M</td>\n",
       "      <td>26.0</td>\n",
       "      <td>24.0</td>\n",
       "      <td>40.0</td>\n",
       "      <td>0.6</td>\n",
       "      <td>34.5</td>\n",
       "      <td>1.02</td>\n",
       "      <td>...</td>\n",
       "      <td>78.0</td>\n",
       "      <td>176000.0</td>\n",
       "      <td>4.0</td>\n",
       "      <td>0.11</td>\n",
       "      <td>13.1</td>\n",
       "      <td>138.0</td>\n",
       "      <td>35.0</td>\n",
       "      <td>86.0</td>\n",
       "      <td>9.8</td>\n",
       "      <td>1</td>\n",
       "    </tr>\n",
       "    <tr>\n",
       "      <th>1</th>\n",
       "      <td>000F0BC139D2846DB86AA32B8F05B215</td>\n",
       "      <td>GRUPO_0</td>\n",
       "      <td>41</td>\n",
       "      <td>M</td>\n",
       "      <td>NaN</td>\n",
       "      <td>NaN</td>\n",
       "      <td>20.0</td>\n",
       "      <td>0.4</td>\n",
       "      <td>33.2</td>\n",
       "      <td>1.04</td>\n",
       "      <td>...</td>\n",
       "      <td>37.4</td>\n",
       "      <td>279000.0</td>\n",
       "      <td>4.3</td>\n",
       "      <td>NaN</td>\n",
       "      <td>14.0</td>\n",
       "      <td>142.0</td>\n",
       "      <td>33.0</td>\n",
       "      <td>83.2</td>\n",
       "      <td>10.0</td>\n",
       "      <td>1</td>\n",
       "    </tr>\n",
       "  </tbody>\n",
       "</table>\n",
       "<p>2 rows × 32 columns</p>\n",
       "</div>\n",
       "      <button class=\"colab-df-convert\" onclick=\"convertToInteractive('df-8258253b-8e6a-4310-a08c-7059ecea8942')\"\n",
       "              title=\"Convert this dataframe to an interactive table.\"\n",
       "              style=\"display:none;\">\n",
       "        \n",
       "  <svg xmlns=\"http://www.w3.org/2000/svg\" height=\"24px\"viewBox=\"0 0 24 24\"\n",
       "       width=\"24px\">\n",
       "    <path d=\"M0 0h24v24H0V0z\" fill=\"none\"/>\n",
       "    <path d=\"M18.56 5.44l.94 2.06.94-2.06 2.06-.94-2.06-.94-.94-2.06-.94 2.06-2.06.94zm-11 1L8.5 8.5l.94-2.06 2.06-.94-2.06-.94L8.5 2.5l-.94 2.06-2.06.94zm10 10l.94 2.06.94-2.06 2.06-.94-2.06-.94-.94-2.06-.94 2.06-2.06.94z\"/><path d=\"M17.41 7.96l-1.37-1.37c-.4-.4-.92-.59-1.43-.59-.52 0-1.04.2-1.43.59L10.3 9.45l-7.72 7.72c-.78.78-.78 2.05 0 2.83L4 21.41c.39.39.9.59 1.41.59.51 0 1.02-.2 1.41-.59l7.78-7.78 2.81-2.81c.8-.78.8-2.07 0-2.86zM5.41 20L4 18.59l7.72-7.72 1.47 1.35L5.41 20z\"/>\n",
       "  </svg>\n",
       "      </button>\n",
       "      \n",
       "  <style>\n",
       "    .colab-df-container {\n",
       "      display:flex;\n",
       "      flex-wrap:wrap;\n",
       "      gap: 12px;\n",
       "    }\n",
       "\n",
       "    .colab-df-convert {\n",
       "      background-color: #E8F0FE;\n",
       "      border: none;\n",
       "      border-radius: 50%;\n",
       "      cursor: pointer;\n",
       "      display: none;\n",
       "      fill: #1967D2;\n",
       "      height: 32px;\n",
       "      padding: 0 0 0 0;\n",
       "      width: 32px;\n",
       "    }\n",
       "\n",
       "    .colab-df-convert:hover {\n",
       "      background-color: #E2EBFA;\n",
       "      box-shadow: 0px 1px 2px rgba(60, 64, 67, 0.3), 0px 1px 3px 1px rgba(60, 64, 67, 0.15);\n",
       "      fill: #174EA6;\n",
       "    }\n",
       "\n",
       "    [theme=dark] .colab-df-convert {\n",
       "      background-color: #3B4455;\n",
       "      fill: #D2E3FC;\n",
       "    }\n",
       "\n",
       "    [theme=dark] .colab-df-convert:hover {\n",
       "      background-color: #434B5C;\n",
       "      box-shadow: 0px 1px 3px 1px rgba(0, 0, 0, 0.15);\n",
       "      filter: drop-shadow(0px 1px 2px rgba(0, 0, 0, 0.3));\n",
       "      fill: #FFFFFF;\n",
       "    }\n",
       "  </style>\n",
       "\n",
       "      <script>\n",
       "        const buttonEl =\n",
       "          document.querySelector('#df-8258253b-8e6a-4310-a08c-7059ecea8942 button.colab-df-convert');\n",
       "        buttonEl.style.display =\n",
       "          google.colab.kernel.accessAllowed ? 'block' : 'none';\n",
       "\n",
       "        async function convertToInteractive(key) {\n",
       "          const element = document.querySelector('#df-8258253b-8e6a-4310-a08c-7059ecea8942');\n",
       "          const dataTable =\n",
       "            await google.colab.kernel.invokeFunction('convertToInteractive',\n",
       "                                                     [key], {});\n",
       "          if (!dataTable) return;\n",
       "\n",
       "          const docLinkHtml = 'Like what you see? Visit the ' +\n",
       "            '<a target=\"_blank\" href=https://colab.research.google.com/notebooks/data_table.ipynb>data table notebook</a>'\n",
       "            + ' to learn more about interactive tables.';\n",
       "          element.innerHTML = '';\n",
       "          dataTable['output_type'] = 'display_data';\n",
       "          await google.colab.output.renderOutput(dataTable, element);\n",
       "          const docLink = document.createElement('div');\n",
       "          docLink.innerHTML = docLinkHtml;\n",
       "          element.appendChild(docLink);\n",
       "        }\n",
       "      </script>\n",
       "    </div>\n",
       "  </div>\n",
       "  "
      ],
      "text/plain": [
       "                        ID_PACIENTE    GRUPO  Idade Sexo  ALT (TGP)  \\\n",
       "0  00017961865C4F766FDBB3CD8FE0BFB0  GRUPO_0     54    M       26.0   \n",
       "1  000F0BC139D2846DB86AA32B8F05B215  GRUPO_0     41    M        NaN   \n",
       "\n",
       "   AST (TGO)  Basófilos  Basófilos (%)  CHCM  Creatinina  ...  \\\n",
       "0       24.0       40.0            0.6  34.5        1.02  ...   \n",
       "1        NaN       20.0            0.4  33.2        1.04  ...   \n",
       "\n",
       "   Neutrófilos (%)  Plaquetas  Potássio  Proteína C-Reativa   RDW  Sódio  \\\n",
       "0             78.0   176000.0       4.0                0.11  13.1  138.0   \n",
       "1             37.4   279000.0       4.3                 NaN  14.0  142.0   \n",
       "\n",
       "   Uréia   VCM  Volume plaquetário médio  SEXO  \n",
       "0   35.0  86.0                       9.8     1  \n",
       "1   33.0  83.2                      10.0     1  \n",
       "\n",
       "[2 rows x 32 columns]"
      ]
     },
     "execution_count": 7,
     "metadata": {},
     "output_type": "execute_result"
    }
   ],
   "source": [
    "df1.head(2)"
   ]
  },
  {
   "cell_type": "code",
   "execution_count": null,
   "metadata": {
    "colab": {
     "base_uri": "https://localhost:8080/"
    },
    "id": "RiptcIuE7QLR",
    "outputId": "a88e6fa3-f907-45bc-cb13-287deb22c14a"
   },
   "outputs": [
    {
     "data": {
      "text/plain": [
       "ID_PACIENTE                    0\n",
       "GRUPO                          0\n",
       "Idade                          0\n",
       "Sexo                           0\n",
       "ALT (TGP)                   1569\n",
       "AST (TGO)                   1590\n",
       "Basófilos                    387\n",
       "Basófilos (%)                387\n",
       "CHCM                         389\n",
       "Creatinina                   865\n",
       "Eosinófilos                  387\n",
       "Eosinófilos (%)              387\n",
       "Eritrócitos                  387\n",
       "HCM                          389\n",
       "Hematócrito                  386\n",
       "Hemoglobina                  384\n",
       "Leucócitos                   387\n",
       "Linfócitos                   387\n",
       "Linfócitos (%)               387\n",
       "Monócitos                    387\n",
       "Monócitos (%)                387\n",
       "Neutrófilos                  387\n",
       "Neutrófilos (%)              389\n",
       "Plaquetas                    380\n",
       "Potássio                    1441\n",
       "Proteína C-Reativa          1266\n",
       "RDW                          387\n",
       "Sódio                       1501\n",
       "Uréia                       1073\n",
       "VCM                          387\n",
       "Volume plaquetário médio     428\n",
       "SEXO                           0\n",
       "dtype: int64"
      ]
     },
     "execution_count": 15,
     "metadata": {},
     "output_type": "execute_result"
    }
   ],
   "source": [
    "df1.isnull().sum()"
   ]
  },
  {
   "cell_type": "code",
   "execution_count": null,
   "metadata": {
    "id": "DIAz31hs4yRv"
   },
   "outputs": [],
   "source": [
    "percent_missing = df1.isnull().sum() * 100 / len(df1)\n",
    "missing_value_df = pd.DataFrame({'column_name': df1.columns,\n",
    "                                 'percent_missing': percent_missing})"
   ]
  },
  {
   "cell_type": "code",
   "execution_count": null,
   "metadata": {
    "colab": {
     "base_uri": "https://localhost:8080/",
     "height": 1000
    },
    "id": "bbZQ5Sun5Hs3",
    "outputId": "c4ba0ccb-58e6-4018-a139-6d5bce26c53f"
   },
   "outputs": [
    {
     "data": {
      "text/html": [
       "\n",
       "  <div id=\"df-e018ed84-882c-4a3c-aa1f-45f05a4ae1cc\">\n",
       "    <div class=\"colab-df-container\">\n",
       "      <div>\n",
       "<style scoped>\n",
       "    .dataframe tbody tr th:only-of-type {\n",
       "        vertical-align: middle;\n",
       "    }\n",
       "\n",
       "    .dataframe tbody tr th {\n",
       "        vertical-align: top;\n",
       "    }\n",
       "\n",
       "    .dataframe thead th {\n",
       "        text-align: right;\n",
       "    }\n",
       "</style>\n",
       "<table border=\"1\" class=\"dataframe\">\n",
       "  <thead>\n",
       "    <tr style=\"text-align: right;\">\n",
       "      <th></th>\n",
       "      <th>column_name</th>\n",
       "      <th>percent_missing</th>\n",
       "    </tr>\n",
       "  </thead>\n",
       "  <tbody>\n",
       "    <tr>\n",
       "      <th>ID_PACIENTE</th>\n",
       "      <td>ID_PACIENTE</td>\n",
       "      <td>0.000000</td>\n",
       "    </tr>\n",
       "    <tr>\n",
       "      <th>GRUPO</th>\n",
       "      <td>GRUPO</td>\n",
       "      <td>0.000000</td>\n",
       "    </tr>\n",
       "    <tr>\n",
       "      <th>Idade</th>\n",
       "      <td>Idade</td>\n",
       "      <td>0.000000</td>\n",
       "    </tr>\n",
       "    <tr>\n",
       "      <th>Sexo</th>\n",
       "      <td>Sexo</td>\n",
       "      <td>0.000000</td>\n",
       "    </tr>\n",
       "    <tr>\n",
       "      <th>ALT (TGP)</th>\n",
       "      <td>ALT (TGP)</td>\n",
       "      <td>36.319444</td>\n",
       "    </tr>\n",
       "    <tr>\n",
       "      <th>AST (TGO)</th>\n",
       "      <td>AST (TGO)</td>\n",
       "      <td>36.805556</td>\n",
       "    </tr>\n",
       "    <tr>\n",
       "      <th>Basófilos</th>\n",
       "      <td>Basófilos</td>\n",
       "      <td>8.958333</td>\n",
       "    </tr>\n",
       "    <tr>\n",
       "      <th>Basófilos (%)</th>\n",
       "      <td>Basófilos (%)</td>\n",
       "      <td>8.958333</td>\n",
       "    </tr>\n",
       "    <tr>\n",
       "      <th>CHCM</th>\n",
       "      <td>CHCM</td>\n",
       "      <td>9.004630</td>\n",
       "    </tr>\n",
       "    <tr>\n",
       "      <th>Creatinina</th>\n",
       "      <td>Creatinina</td>\n",
       "      <td>20.023148</td>\n",
       "    </tr>\n",
       "    <tr>\n",
       "      <th>Eosinófilos</th>\n",
       "      <td>Eosinófilos</td>\n",
       "      <td>8.958333</td>\n",
       "    </tr>\n",
       "    <tr>\n",
       "      <th>Eosinófilos (%)</th>\n",
       "      <td>Eosinófilos (%)</td>\n",
       "      <td>8.958333</td>\n",
       "    </tr>\n",
       "    <tr>\n",
       "      <th>Eritrócitos</th>\n",
       "      <td>Eritrócitos</td>\n",
       "      <td>8.958333</td>\n",
       "    </tr>\n",
       "    <tr>\n",
       "      <th>HCM</th>\n",
       "      <td>HCM</td>\n",
       "      <td>9.004630</td>\n",
       "    </tr>\n",
       "    <tr>\n",
       "      <th>Hematócrito</th>\n",
       "      <td>Hematócrito</td>\n",
       "      <td>8.935185</td>\n",
       "    </tr>\n",
       "    <tr>\n",
       "      <th>Hemoglobina</th>\n",
       "      <td>Hemoglobina</td>\n",
       "      <td>8.888889</td>\n",
       "    </tr>\n",
       "    <tr>\n",
       "      <th>Leucócitos</th>\n",
       "      <td>Leucócitos</td>\n",
       "      <td>8.958333</td>\n",
       "    </tr>\n",
       "    <tr>\n",
       "      <th>Linfócitos</th>\n",
       "      <td>Linfócitos</td>\n",
       "      <td>8.958333</td>\n",
       "    </tr>\n",
       "    <tr>\n",
       "      <th>Linfócitos (%)</th>\n",
       "      <td>Linfócitos (%)</td>\n",
       "      <td>8.958333</td>\n",
       "    </tr>\n",
       "    <tr>\n",
       "      <th>Monócitos</th>\n",
       "      <td>Monócitos</td>\n",
       "      <td>8.958333</td>\n",
       "    </tr>\n",
       "    <tr>\n",
       "      <th>Monócitos (%)</th>\n",
       "      <td>Monócitos (%)</td>\n",
       "      <td>8.958333</td>\n",
       "    </tr>\n",
       "    <tr>\n",
       "      <th>Neutrófilos</th>\n",
       "      <td>Neutrófilos</td>\n",
       "      <td>8.958333</td>\n",
       "    </tr>\n",
       "    <tr>\n",
       "      <th>Neutrófilos (%)</th>\n",
       "      <td>Neutrófilos (%)</td>\n",
       "      <td>9.004630</td>\n",
       "    </tr>\n",
       "    <tr>\n",
       "      <th>Plaquetas</th>\n",
       "      <td>Plaquetas</td>\n",
       "      <td>8.796296</td>\n",
       "    </tr>\n",
       "    <tr>\n",
       "      <th>Potássio</th>\n",
       "      <td>Potássio</td>\n",
       "      <td>33.356481</td>\n",
       "    </tr>\n",
       "    <tr>\n",
       "      <th>Proteína C-Reativa</th>\n",
       "      <td>Proteína C-Reativa</td>\n",
       "      <td>29.305556</td>\n",
       "    </tr>\n",
       "    <tr>\n",
       "      <th>RDW</th>\n",
       "      <td>RDW</td>\n",
       "      <td>8.958333</td>\n",
       "    </tr>\n",
       "    <tr>\n",
       "      <th>Sódio</th>\n",
       "      <td>Sódio</td>\n",
       "      <td>34.745370</td>\n",
       "    </tr>\n",
       "    <tr>\n",
       "      <th>Uréia</th>\n",
       "      <td>Uréia</td>\n",
       "      <td>24.837963</td>\n",
       "    </tr>\n",
       "    <tr>\n",
       "      <th>VCM</th>\n",
       "      <td>VCM</td>\n",
       "      <td>8.958333</td>\n",
       "    </tr>\n",
       "    <tr>\n",
       "      <th>Volume plaquetário médio</th>\n",
       "      <td>Volume plaquetário médio</td>\n",
       "      <td>9.907407</td>\n",
       "    </tr>\n",
       "    <tr>\n",
       "      <th>SEXO</th>\n",
       "      <td>SEXO</td>\n",
       "      <td>0.000000</td>\n",
       "    </tr>\n",
       "  </tbody>\n",
       "</table>\n",
       "</div>\n",
       "      <button class=\"colab-df-convert\" onclick=\"convertToInteractive('df-e018ed84-882c-4a3c-aa1f-45f05a4ae1cc')\"\n",
       "              title=\"Convert this dataframe to an interactive table.\"\n",
       "              style=\"display:none;\">\n",
       "        \n",
       "  <svg xmlns=\"http://www.w3.org/2000/svg\" height=\"24px\"viewBox=\"0 0 24 24\"\n",
       "       width=\"24px\">\n",
       "    <path d=\"M0 0h24v24H0V0z\" fill=\"none\"/>\n",
       "    <path d=\"M18.56 5.44l.94 2.06.94-2.06 2.06-.94-2.06-.94-.94-2.06-.94 2.06-2.06.94zm-11 1L8.5 8.5l.94-2.06 2.06-.94-2.06-.94L8.5 2.5l-.94 2.06-2.06.94zm10 10l.94 2.06.94-2.06 2.06-.94-2.06-.94-.94-2.06-.94 2.06-2.06.94z\"/><path d=\"M17.41 7.96l-1.37-1.37c-.4-.4-.92-.59-1.43-.59-.52 0-1.04.2-1.43.59L10.3 9.45l-7.72 7.72c-.78.78-.78 2.05 0 2.83L4 21.41c.39.39.9.59 1.41.59.51 0 1.02-.2 1.41-.59l7.78-7.78 2.81-2.81c.8-.78.8-2.07 0-2.86zM5.41 20L4 18.59l7.72-7.72 1.47 1.35L5.41 20z\"/>\n",
       "  </svg>\n",
       "      </button>\n",
       "      \n",
       "  <style>\n",
       "    .colab-df-container {\n",
       "      display:flex;\n",
       "      flex-wrap:wrap;\n",
       "      gap: 12px;\n",
       "    }\n",
       "\n",
       "    .colab-df-convert {\n",
       "      background-color: #E8F0FE;\n",
       "      border: none;\n",
       "      border-radius: 50%;\n",
       "      cursor: pointer;\n",
       "      display: none;\n",
       "      fill: #1967D2;\n",
       "      height: 32px;\n",
       "      padding: 0 0 0 0;\n",
       "      width: 32px;\n",
       "    }\n",
       "\n",
       "    .colab-df-convert:hover {\n",
       "      background-color: #E2EBFA;\n",
       "      box-shadow: 0px 1px 2px rgba(60, 64, 67, 0.3), 0px 1px 3px 1px rgba(60, 64, 67, 0.15);\n",
       "      fill: #174EA6;\n",
       "    }\n",
       "\n",
       "    [theme=dark] .colab-df-convert {\n",
       "      background-color: #3B4455;\n",
       "      fill: #D2E3FC;\n",
       "    }\n",
       "\n",
       "    [theme=dark] .colab-df-convert:hover {\n",
       "      background-color: #434B5C;\n",
       "      box-shadow: 0px 1px 3px 1px rgba(0, 0, 0, 0.15);\n",
       "      filter: drop-shadow(0px 1px 2px rgba(0, 0, 0, 0.3));\n",
       "      fill: #FFFFFF;\n",
       "    }\n",
       "  </style>\n",
       "\n",
       "      <script>\n",
       "        const buttonEl =\n",
       "          document.querySelector('#df-e018ed84-882c-4a3c-aa1f-45f05a4ae1cc button.colab-df-convert');\n",
       "        buttonEl.style.display =\n",
       "          google.colab.kernel.accessAllowed ? 'block' : 'none';\n",
       "\n",
       "        async function convertToInteractive(key) {\n",
       "          const element = document.querySelector('#df-e018ed84-882c-4a3c-aa1f-45f05a4ae1cc');\n",
       "          const dataTable =\n",
       "            await google.colab.kernel.invokeFunction('convertToInteractive',\n",
       "                                                     [key], {});\n",
       "          if (!dataTable) return;\n",
       "\n",
       "          const docLinkHtml = 'Like what you see? Visit the ' +\n",
       "            '<a target=\"_blank\" href=https://colab.research.google.com/notebooks/data_table.ipynb>data table notebook</a>'\n",
       "            + ' to learn more about interactive tables.';\n",
       "          element.innerHTML = '';\n",
       "          dataTable['output_type'] = 'display_data';\n",
       "          await google.colab.output.renderOutput(dataTable, element);\n",
       "          const docLink = document.createElement('div');\n",
       "          docLink.innerHTML = docLinkHtml;\n",
       "          element.appendChild(docLink);\n",
       "        }\n",
       "      </script>\n",
       "    </div>\n",
       "  </div>\n",
       "  "
      ],
      "text/plain": [
       "                                       column_name  percent_missing\n",
       "ID_PACIENTE                            ID_PACIENTE         0.000000\n",
       "GRUPO                                        GRUPO         0.000000\n",
       "Idade                                        Idade         0.000000\n",
       "Sexo                                          Sexo         0.000000\n",
       "ALT (TGP)                                ALT (TGP)        36.319444\n",
       "AST (TGO)                                AST (TGO)        36.805556\n",
       "Basófilos                                Basófilos         8.958333\n",
       "Basófilos (%)                        Basófilos (%)         8.958333\n",
       "CHCM                                          CHCM         9.004630\n",
       "Creatinina                              Creatinina        20.023148\n",
       "Eosinófilos                            Eosinófilos         8.958333\n",
       "Eosinófilos (%)                    Eosinófilos (%)         8.958333\n",
       "Eritrócitos                            Eritrócitos         8.958333\n",
       "HCM                                            HCM         9.004630\n",
       "Hematócrito                            Hematócrito         8.935185\n",
       "Hemoglobina                            Hemoglobina         8.888889\n",
       "Leucócitos                              Leucócitos         8.958333\n",
       "Linfócitos                              Linfócitos         8.958333\n",
       "Linfócitos (%)                      Linfócitos (%)         8.958333\n",
       "Monócitos                                Monócitos         8.958333\n",
       "Monócitos (%)                        Monócitos (%)         8.958333\n",
       "Neutrófilos                            Neutrófilos         8.958333\n",
       "Neutrófilos (%)                    Neutrófilos (%)         9.004630\n",
       "Plaquetas                                Plaquetas         8.796296\n",
       "Potássio                                  Potássio        33.356481\n",
       "Proteína C-Reativa              Proteína C-Reativa        29.305556\n",
       "RDW                                            RDW         8.958333\n",
       "Sódio                                        Sódio        34.745370\n",
       "Uréia                                        Uréia        24.837963\n",
       "VCM                                            VCM         8.958333\n",
       "Volume plaquetário médio  Volume plaquetário médio         9.907407\n",
       "SEXO                                          SEXO         0.000000"
      ]
     },
     "execution_count": 11,
     "metadata": {},
     "output_type": "execute_result"
    }
   ],
   "source": [
    "missing_value_df"
   ]
  },
  {
   "cell_type": "markdown",
   "metadata": {
    "id": "nAaFhDLepBoc"
   },
   "source": [
    "## 1.1 - Normalizar dados"
   ]
  },
  {
   "cell_type": "markdown",
   "metadata": {
    "id": "gGrlaPcdbapo"
   },
   "source": [
    "Como a idade é um atributo importante, irei deslocar a coluna \"Idade\" para ficar próxima das colunas dos exames, para que ela também seja normalizada."
   ]
  },
  {
   "cell_type": "code",
   "execution_count": null,
   "metadata": {
    "colab": {
     "base_uri": "https://localhost:8080/"
    },
    "id": "BGjtLvvjbaKi",
    "outputId": "66ed1440-3ad4-4b0a-b86a-581ccbdef612"
   },
   "outputs": [
    {
     "name": "stdout",
     "output_type": "stream",
     "text": [
      "['ID_PACIENTE', 'GRUPO', 'Idade', 'Sexo', 'ALT (TGP)', 'AST (TGO)', 'Basófilos', 'Basófilos (%)', 'CHCM', 'Creatinina', 'Eosinófilos', 'Eosinófilos (%)', 'Eritrócitos', 'HCM', 'Hematócrito', 'Hemoglobina', 'Leucócitos', 'Linfócitos', 'Linfócitos (%)', 'Monócitos', 'Monócitos (%)', 'Neutrófilos', 'Neutrófilos (%)', 'Plaquetas', 'Potássio', 'Proteína C-Reativa', 'RDW', 'Sódio', 'Uréia', 'VCM', 'Volume plaquetário médio', 'SEXO']\n"
     ]
    }
   ],
   "source": [
    "cols = list(df1.columns.values)\n",
    "print(cols)"
   ]
  },
  {
   "cell_type": "code",
   "execution_count": null,
   "metadata": {
    "id": "fabEfCQLb_Xo"
   },
   "outputs": [],
   "source": [
    "df1 = df1[['ID_PACIENTE', 'GRUPO', 'Sexo','Idade','ALT (TGP)', 'AST (TGO)', 'Basófilos', 'Basófilos (%)', 'CHCM', 'Creatinina', 'Eosinófilos', 'Eosinófilos (%)', 'Eritrócitos', 'HCM', 'Hematócrito', 'Hemoglobina', 'Leucócitos', 'Linfócitos', 'Linfócitos (%)', 'Monócitos', 'Monócitos (%)', 'Neutrófilos', 'Neutrófilos (%)', 'Plaquetas', 'Potássio', 'Proteína C-Reativa', 'RDW', 'Sódio', 'Uréia', 'VCM', 'Volume plaquetário médio', 'SEXO']]"
   ]
  },
  {
   "cell_type": "code",
   "execution_count": null,
   "metadata": {
    "colab": {
     "base_uri": "https://localhost:8080/",
     "height": 195
    },
    "id": "inXMIW-EpFmN",
    "outputId": "88f4c75b-7958-4e19-bbfc-f0d8fa2f6348"
   },
   "outputs": [
    {
     "data": {
      "text/html": [
       "<div>\n",
       "<style scoped>\n",
       "    .dataframe tbody tr th:only-of-type {\n",
       "        vertical-align: middle;\n",
       "    }\n",
       "\n",
       "    .dataframe tbody tr th {\n",
       "        vertical-align: top;\n",
       "    }\n",
       "\n",
       "    .dataframe thead th {\n",
       "        text-align: right;\n",
       "    }\n",
       "</style>\n",
       "<table border=\"1\" class=\"dataframe\">\n",
       "  <thead>\n",
       "    <tr style=\"text-align: right;\">\n",
       "      <th></th>\n",
       "      <th>ID_PACIENTE</th>\n",
       "      <th>GRUPO</th>\n",
       "      <th>Sexo</th>\n",
       "      <th>Idade</th>\n",
       "      <th>ALT (TGP)</th>\n",
       "      <th>AST (TGO)</th>\n",
       "      <th>Basófilos</th>\n",
       "      <th>Basófilos (%)</th>\n",
       "      <th>CHCM</th>\n",
       "      <th>Creatinina</th>\n",
       "      <th>Eosinófilos</th>\n",
       "      <th>Eosinófilos (%)</th>\n",
       "      <th>Eritrócitos</th>\n",
       "      <th>HCM</th>\n",
       "      <th>Hematócrito</th>\n",
       "      <th>Hemoglobina</th>\n",
       "      <th>Leucócitos</th>\n",
       "      <th>Linfócitos</th>\n",
       "      <th>Linfócitos (%)</th>\n",
       "      <th>Monócitos</th>\n",
       "      <th>Monócitos (%)</th>\n",
       "      <th>Neutrófilos</th>\n",
       "      <th>Neutrófilos (%)</th>\n",
       "      <th>Plaquetas</th>\n",
       "      <th>Potássio</th>\n",
       "      <th>Proteína C-Reativa</th>\n",
       "      <th>RDW</th>\n",
       "      <th>Sódio</th>\n",
       "      <th>Uréia</th>\n",
       "      <th>VCM</th>\n",
       "      <th>Volume plaquetário médio</th>\n",
       "      <th>SEXO</th>\n",
       "    </tr>\n",
       "  </thead>\n",
       "  <tbody>\n",
       "    <tr>\n",
       "      <th>0</th>\n",
       "      <td>00017961865C4F766FDBB3CD8FE0BFB0</td>\n",
       "      <td>GRUPO_0</td>\n",
       "      <td>M</td>\n",
       "      <td>0.590909</td>\n",
       "      <td>0.051345</td>\n",
       "      <td>0.068376</td>\n",
       "      <td>0.097561</td>\n",
       "      <td>0.127660</td>\n",
       "      <td>0.714286</td>\n",
       "      <td>0.087420</td>\n",
       "      <td>0.020134</td>\n",
       "      <td>0.043902</td>\n",
       "      <td>0.497065</td>\n",
       "      <td>0.548246</td>\n",
       "      <td>0.464455</td>\n",
       "      <td>0.574803</td>\n",
       "      <td>0.045227</td>\n",
       "      <td>0.007432</td>\n",
       "      <td>0.152412</td>\n",
       "      <td>0.076316</td>\n",
       "      <td>0.102908</td>\n",
       "      <td>0.177523</td>\n",
       "      <td>0.799353</td>\n",
       "      <td>0.248895</td>\n",
       "      <td>0.400</td>\n",
       "      <td>0.001965</td>\n",
       "      <td>0.134969</td>\n",
       "      <td>0.533333</td>\n",
       "      <td>0.143617</td>\n",
       "      <td>0.51448</td>\n",
       "      <td>0.372549</td>\n",
       "      <td>1.0</td>\n",
       "    </tr>\n",
       "    <tr>\n",
       "      <th>1</th>\n",
       "      <td>000F0BC139D2846DB86AA32B8F05B215</td>\n",
       "      <td>GRUPO_0</td>\n",
       "      <td>M</td>\n",
       "      <td>0.443182</td>\n",
       "      <td>NaN</td>\n",
       "      <td>NaN</td>\n",
       "      <td>0.048780</td>\n",
       "      <td>0.085106</td>\n",
       "      <td>0.598214</td>\n",
       "      <td>0.089552</td>\n",
       "      <td>0.053691</td>\n",
       "      <td>0.165854</td>\n",
       "      <td>0.508806</td>\n",
       "      <td>0.456140</td>\n",
       "      <td>0.445498</td>\n",
       "      <td>0.511811</td>\n",
       "      <td>0.032229</td>\n",
       "      <td>0.018538</td>\n",
       "      <td>0.529605</td>\n",
       "      <td>0.102632</td>\n",
       "      <td>0.190157</td>\n",
       "      <td>0.061203</td>\n",
       "      <td>0.361381</td>\n",
       "      <td>0.400589</td>\n",
       "      <td>0.475</td>\n",
       "      <td>NaN</td>\n",
       "      <td>0.190184</td>\n",
       "      <td>0.666667</td>\n",
       "      <td>0.132979</td>\n",
       "      <td>0.46678</td>\n",
       "      <td>0.411765</td>\n",
       "      <td>1.0</td>\n",
       "    </tr>\n",
       "    <tr>\n",
       "      <th>2</th>\n",
       "      <td>0028785949D91BD93442838FC898E229</td>\n",
       "      <td>GRUPO_0</td>\n",
       "      <td>F</td>\n",
       "      <td>0.329545</td>\n",
       "      <td>NaN</td>\n",
       "      <td>NaN</td>\n",
       "      <td>NaN</td>\n",
       "      <td>NaN</td>\n",
       "      <td>NaN</td>\n",
       "      <td>NaN</td>\n",
       "      <td>NaN</td>\n",
       "      <td>NaN</td>\n",
       "      <td>NaN</td>\n",
       "      <td>NaN</td>\n",
       "      <td>NaN</td>\n",
       "      <td>NaN</td>\n",
       "      <td>NaN</td>\n",
       "      <td>NaN</td>\n",
       "      <td>NaN</td>\n",
       "      <td>NaN</td>\n",
       "      <td>NaN</td>\n",
       "      <td>NaN</td>\n",
       "      <td>NaN</td>\n",
       "      <td>NaN</td>\n",
       "      <td>NaN</td>\n",
       "      <td>NaN</td>\n",
       "      <td>NaN</td>\n",
       "      <td>NaN</td>\n",
       "      <td>NaN</td>\n",
       "      <td>NaN</td>\n",
       "      <td>NaN</td>\n",
       "      <td>0.0</td>\n",
       "    </tr>\n",
       "  </tbody>\n",
       "</table>\n",
       "</div>"
      ],
      "text/plain": [
       "                        ID_PACIENTE    GRUPO  ... Volume plaquetário médio  SEXO\n",
       "0  00017961865C4F766FDBB3CD8FE0BFB0  GRUPO_0  ...                 0.372549   1.0\n",
       "1  000F0BC139D2846DB86AA32B8F05B215  GRUPO_0  ...                 0.411765   1.0\n",
       "2  0028785949D91BD93442838FC898E229  GRUPO_0  ...                      NaN   0.0\n",
       "\n",
       "[3 rows x 32 columns]"
      ]
     },
     "execution_count": 10,
     "metadata": {},
     "output_type": "execute_result"
    }
   ],
   "source": [
    "df_aux = df1[df1.columns[3:]].apply(lambda x: (x - x.min()) / (x.max() - x.min()))\n",
    "\n",
    "df1.drop(columns=df1.columns[3:], inplace=True)\n",
    "\n",
    "df1 = pd.concat([df1, df_aux], axis=1)\n",
    "\n",
    "df1.head(3)"
   ]
  },
  {
   "cell_type": "markdown",
   "metadata": {
    "id": "85a-5N78HkEx"
   },
   "source": [
    "Dicionário que é responsável por definir a faixa de similaridade entre os vértices, neste exemplo, estamos baseando o intervalo utilizando como referência o desvio padrão da coluna"
   ]
  },
  {
   "cell_type": "code",
   "execution_count": null,
   "metadata": {
    "id": "uA7TdMEYxOqp"
   },
   "outputs": [],
   "source": [
    "df1_sem_preencher_valores_nulos = df1.copy()"
   ]
  },
  {
   "cell_type": "code",
   "execution_count": null,
   "metadata": {
    "id": "0jjaPdWeZDLs"
   },
   "outputs": [],
   "source": [
    "def altera_range(df1_sem_preencher_valores_nulos, denominador):\n",
    "\n",
    "    std_dict = {\n",
    "      'ALT (TGP)': round(df1_sem_preencher_valores_nulos['ALT (TGP)'].std()/denominador,3),\n",
    "      'Proteína C-Reativa': round(df1_sem_preencher_valores_nulos['Proteína C-Reativa'].std()/denominador,3),\n",
    "      'AST (TGO)': round(df1_sem_preencher_valores_nulos['AST (TGO)'].std()/denominador,3),\n",
    "      'Idade': round(df1_sem_preencher_valores_nulos['Idade'].std()/denominador,3),\n",
    "      'Creatinina': round(df1_sem_preencher_valores_nulos['Creatinina'].std()/denominador,3),\n",
    "      'Uréia': round(df1_sem_preencher_valores_nulos['Uréia'].std()/denominador,3),\n",
    "      'RDW': round(df1_sem_preencher_valores_nulos['RDW'].std()/denominador,3),\n",
    "      'Potássio': round(df1_sem_preencher_valores_nulos['Potássio'].std()/denominador,3),\n",
    "      'Eritrócitos': round(df1_sem_preencher_valores_nulos['Eritrócitos'].std()/denominador,3),\n",
    "      'Neutrófilos': round(df1_sem_preencher_valores_nulos['Neutrófilos'].std()/denominador,3)\n",
    "    }\n",
    "\n",
    "    return std_dict"
   ]
  },
  {
   "cell_type": "markdown",
   "metadata": {
    "id": "Nat5HDCgjXYw"
   },
   "source": [
    "## 1.2 - Preencher valores nulos"
   ]
  },
  {
   "cell_type": "code",
   "execution_count": null,
   "metadata": {
    "colab": {
     "base_uri": "https://localhost:8080/",
     "height": 195
    },
    "id": "6YfDH11njcX8",
    "outputId": "f426ba1e-0e25-400b-ab99-64fd8d4b2f2a"
   },
   "outputs": [
    {
     "data": {
      "text/html": [
       "<div>\n",
       "<style scoped>\n",
       "    .dataframe tbody tr th:only-of-type {\n",
       "        vertical-align: middle;\n",
       "    }\n",
       "\n",
       "    .dataframe tbody tr th {\n",
       "        vertical-align: top;\n",
       "    }\n",
       "\n",
       "    .dataframe thead th {\n",
       "        text-align: right;\n",
       "    }\n",
       "</style>\n",
       "<table border=\"1\" class=\"dataframe\">\n",
       "  <thead>\n",
       "    <tr style=\"text-align: right;\">\n",
       "      <th></th>\n",
       "      <th>ID_PACIENTE</th>\n",
       "      <th>GRUPO</th>\n",
       "      <th>Sexo</th>\n",
       "      <th>Idade</th>\n",
       "      <th>ALT (TGP)</th>\n",
       "      <th>AST (TGO)</th>\n",
       "      <th>Basófilos</th>\n",
       "      <th>Basófilos (%)</th>\n",
       "      <th>CHCM</th>\n",
       "      <th>Creatinina</th>\n",
       "      <th>Eosinófilos</th>\n",
       "      <th>Eosinófilos (%)</th>\n",
       "      <th>Eritrócitos</th>\n",
       "      <th>HCM</th>\n",
       "      <th>Hematócrito</th>\n",
       "      <th>Hemoglobina</th>\n",
       "      <th>Leucócitos</th>\n",
       "      <th>Linfócitos</th>\n",
       "      <th>Linfócitos (%)</th>\n",
       "      <th>Monócitos</th>\n",
       "      <th>Monócitos (%)</th>\n",
       "      <th>Neutrófilos</th>\n",
       "      <th>Neutrófilos (%)</th>\n",
       "      <th>Plaquetas</th>\n",
       "      <th>Potássio</th>\n",
       "      <th>Proteína C-Reativa</th>\n",
       "      <th>RDW</th>\n",
       "      <th>Sódio</th>\n",
       "      <th>Uréia</th>\n",
       "      <th>VCM</th>\n",
       "      <th>Volume plaquetário médio</th>\n",
       "      <th>SEXO</th>\n",
       "    </tr>\n",
       "  </thead>\n",
       "  <tbody>\n",
       "    <tr>\n",
       "      <th>0</th>\n",
       "      <td>00017961865C4F766FDBB3CD8FE0BFB0</td>\n",
       "      <td>GRUPO_0</td>\n",
       "      <td>M</td>\n",
       "      <td>0.590909</td>\n",
       "      <td>0.051345</td>\n",
       "      <td>0.068376</td>\n",
       "      <td>0.097561</td>\n",
       "      <td>0.127660</td>\n",
       "      <td>0.714286</td>\n",
       "      <td>0.087420</td>\n",
       "      <td>0.020134</td>\n",
       "      <td>0.043902</td>\n",
       "      <td>0.497065</td>\n",
       "      <td>0.548246</td>\n",
       "      <td>0.464455</td>\n",
       "      <td>0.574803</td>\n",
       "      <td>0.045227</td>\n",
       "      <td>0.007432</td>\n",
       "      <td>0.152412</td>\n",
       "      <td>0.076316</td>\n",
       "      <td>0.102908</td>\n",
       "      <td>0.177523</td>\n",
       "      <td>0.799353</td>\n",
       "      <td>0.248895</td>\n",
       "      <td>0.400</td>\n",
       "      <td>0.001965</td>\n",
       "      <td>0.134969</td>\n",
       "      <td>0.533333</td>\n",
       "      <td>0.143617</td>\n",
       "      <td>0.51448</td>\n",
       "      <td>0.372549</td>\n",
       "      <td>1.0</td>\n",
       "    </tr>\n",
       "    <tr>\n",
       "      <th>1</th>\n",
       "      <td>000F0BC139D2846DB86AA32B8F05B215</td>\n",
       "      <td>GRUPO_0</td>\n",
       "      <td>M</td>\n",
       "      <td>0.443182</td>\n",
       "      <td>-1.000000</td>\n",
       "      <td>-1.000000</td>\n",
       "      <td>0.048780</td>\n",
       "      <td>0.085106</td>\n",
       "      <td>0.598214</td>\n",
       "      <td>0.089552</td>\n",
       "      <td>0.053691</td>\n",
       "      <td>0.165854</td>\n",
       "      <td>0.508806</td>\n",
       "      <td>0.456140</td>\n",
       "      <td>0.445498</td>\n",
       "      <td>0.511811</td>\n",
       "      <td>0.032229</td>\n",
       "      <td>0.018538</td>\n",
       "      <td>0.529605</td>\n",
       "      <td>0.102632</td>\n",
       "      <td>0.190157</td>\n",
       "      <td>0.061203</td>\n",
       "      <td>0.361381</td>\n",
       "      <td>0.400589</td>\n",
       "      <td>0.475</td>\n",
       "      <td>-1.000000</td>\n",
       "      <td>0.190184</td>\n",
       "      <td>0.666667</td>\n",
       "      <td>0.132979</td>\n",
       "      <td>0.46678</td>\n",
       "      <td>0.411765</td>\n",
       "      <td>1.0</td>\n",
       "    </tr>\n",
       "    <tr>\n",
       "      <th>2</th>\n",
       "      <td>0028785949D91BD93442838FC898E229</td>\n",
       "      <td>GRUPO_0</td>\n",
       "      <td>F</td>\n",
       "      <td>0.329545</td>\n",
       "      <td>-1.000000</td>\n",
       "      <td>-1.000000</td>\n",
       "      <td>-1.000000</td>\n",
       "      <td>-1.000000</td>\n",
       "      <td>-1.000000</td>\n",
       "      <td>-1.000000</td>\n",
       "      <td>-1.000000</td>\n",
       "      <td>-1.000000</td>\n",
       "      <td>-1.000000</td>\n",
       "      <td>-1.000000</td>\n",
       "      <td>-1.000000</td>\n",
       "      <td>-1.000000</td>\n",
       "      <td>-1.000000</td>\n",
       "      <td>-1.000000</td>\n",
       "      <td>-1.000000</td>\n",
       "      <td>-1.000000</td>\n",
       "      <td>-1.000000</td>\n",
       "      <td>-1.000000</td>\n",
       "      <td>-1.000000</td>\n",
       "      <td>-1.000000</td>\n",
       "      <td>-1.000</td>\n",
       "      <td>-1.000000</td>\n",
       "      <td>-1.000000</td>\n",
       "      <td>-1.000000</td>\n",
       "      <td>-1.000000</td>\n",
       "      <td>-1.00000</td>\n",
       "      <td>-1.000000</td>\n",
       "      <td>0.0</td>\n",
       "    </tr>\n",
       "  </tbody>\n",
       "</table>\n",
       "</div>"
      ],
      "text/plain": [
       "                        ID_PACIENTE    GRUPO  ... Volume plaquetário médio  SEXO\n",
       "0  00017961865C4F766FDBB3CD8FE0BFB0  GRUPO_0  ...                 0.372549   1.0\n",
       "1  000F0BC139D2846DB86AA32B8F05B215  GRUPO_0  ...                 0.411765   1.0\n",
       "2  0028785949D91BD93442838FC898E229  GRUPO_0  ...                -1.000000   0.0\n",
       "\n",
       "[3 rows x 32 columns]"
      ]
     },
     "execution_count": 13,
     "metadata": {},
     "output_type": "execute_result"
    }
   ],
   "source": [
    "for column in df1.columns[4:]:\n",
    "    df1[column] = df1[column].apply(lambda x: -1 if math.isnan(x) else x)\n",
    "\n",
    "df1.head(3)"
   ]
  },
  {
   "cell_type": "markdown",
   "metadata": {
    "id": "8k_UBYVNt9kF"
   },
   "source": [
    "## 1.3 - Alterar ID do paciente para número"
   ]
  },
  {
   "cell_type": "code",
   "execution_count": null,
   "metadata": {
    "colab": {
     "base_uri": "https://localhost:8080/",
     "height": 195
    },
    "id": "2b8mdF4CD20-",
    "outputId": "58209c52-2566-49cf-b72d-bc4579564ffa"
   },
   "outputs": [
    {
     "data": {
      "text/html": [
       "<div>\n",
       "<style scoped>\n",
       "    .dataframe tbody tr th:only-of-type {\n",
       "        vertical-align: middle;\n",
       "    }\n",
       "\n",
       "    .dataframe tbody tr th {\n",
       "        vertical-align: top;\n",
       "    }\n",
       "\n",
       "    .dataframe thead th {\n",
       "        text-align: right;\n",
       "    }\n",
       "</style>\n",
       "<table border=\"1\" class=\"dataframe\">\n",
       "  <thead>\n",
       "    <tr style=\"text-align: right;\">\n",
       "      <th></th>\n",
       "      <th>ID_PACIENTE</th>\n",
       "      <th>GRUPO</th>\n",
       "      <th>Sexo</th>\n",
       "      <th>Idade</th>\n",
       "      <th>ALT (TGP)</th>\n",
       "      <th>AST (TGO)</th>\n",
       "      <th>Basófilos</th>\n",
       "      <th>Basófilos (%)</th>\n",
       "      <th>CHCM</th>\n",
       "      <th>Creatinina</th>\n",
       "      <th>Eosinófilos</th>\n",
       "      <th>Eosinófilos (%)</th>\n",
       "      <th>Eritrócitos</th>\n",
       "      <th>HCM</th>\n",
       "      <th>Hematócrito</th>\n",
       "      <th>Hemoglobina</th>\n",
       "      <th>Leucócitos</th>\n",
       "      <th>Linfócitos</th>\n",
       "      <th>Linfócitos (%)</th>\n",
       "      <th>Monócitos</th>\n",
       "      <th>Monócitos (%)</th>\n",
       "      <th>Neutrófilos</th>\n",
       "      <th>Neutrófilos (%)</th>\n",
       "      <th>Plaquetas</th>\n",
       "      <th>Potássio</th>\n",
       "      <th>Proteína C-Reativa</th>\n",
       "      <th>RDW</th>\n",
       "      <th>Sódio</th>\n",
       "      <th>Uréia</th>\n",
       "      <th>VCM</th>\n",
       "      <th>Volume plaquetário médio</th>\n",
       "      <th>SEXO</th>\n",
       "    </tr>\n",
       "  </thead>\n",
       "  <tbody>\n",
       "    <tr>\n",
       "      <th>0</th>\n",
       "      <td>0</td>\n",
       "      <td>GRUPO_0</td>\n",
       "      <td>M</td>\n",
       "      <td>0.590909</td>\n",
       "      <td>0.051345</td>\n",
       "      <td>0.068376</td>\n",
       "      <td>0.097561</td>\n",
       "      <td>0.127660</td>\n",
       "      <td>0.714286</td>\n",
       "      <td>0.087420</td>\n",
       "      <td>0.020134</td>\n",
       "      <td>0.043902</td>\n",
       "      <td>0.497065</td>\n",
       "      <td>0.548246</td>\n",
       "      <td>0.464455</td>\n",
       "      <td>0.574803</td>\n",
       "      <td>0.045227</td>\n",
       "      <td>0.007432</td>\n",
       "      <td>0.152412</td>\n",
       "      <td>0.076316</td>\n",
       "      <td>0.102908</td>\n",
       "      <td>0.177523</td>\n",
       "      <td>0.799353</td>\n",
       "      <td>0.248895</td>\n",
       "      <td>0.400</td>\n",
       "      <td>0.001965</td>\n",
       "      <td>0.134969</td>\n",
       "      <td>0.533333</td>\n",
       "      <td>0.143617</td>\n",
       "      <td>0.51448</td>\n",
       "      <td>0.372549</td>\n",
       "      <td>1.0</td>\n",
       "    </tr>\n",
       "    <tr>\n",
       "      <th>1</th>\n",
       "      <td>1</td>\n",
       "      <td>GRUPO_0</td>\n",
       "      <td>M</td>\n",
       "      <td>0.443182</td>\n",
       "      <td>-1.000000</td>\n",
       "      <td>-1.000000</td>\n",
       "      <td>0.048780</td>\n",
       "      <td>0.085106</td>\n",
       "      <td>0.598214</td>\n",
       "      <td>0.089552</td>\n",
       "      <td>0.053691</td>\n",
       "      <td>0.165854</td>\n",
       "      <td>0.508806</td>\n",
       "      <td>0.456140</td>\n",
       "      <td>0.445498</td>\n",
       "      <td>0.511811</td>\n",
       "      <td>0.032229</td>\n",
       "      <td>0.018538</td>\n",
       "      <td>0.529605</td>\n",
       "      <td>0.102632</td>\n",
       "      <td>0.190157</td>\n",
       "      <td>0.061203</td>\n",
       "      <td>0.361381</td>\n",
       "      <td>0.400589</td>\n",
       "      <td>0.475</td>\n",
       "      <td>-1.000000</td>\n",
       "      <td>0.190184</td>\n",
       "      <td>0.666667</td>\n",
       "      <td>0.132979</td>\n",
       "      <td>0.46678</td>\n",
       "      <td>0.411765</td>\n",
       "      <td>1.0</td>\n",
       "    </tr>\n",
       "    <tr>\n",
       "      <th>2</th>\n",
       "      <td>2</td>\n",
       "      <td>GRUPO_0</td>\n",
       "      <td>F</td>\n",
       "      <td>0.329545</td>\n",
       "      <td>-1.000000</td>\n",
       "      <td>-1.000000</td>\n",
       "      <td>-1.000000</td>\n",
       "      <td>-1.000000</td>\n",
       "      <td>-1.000000</td>\n",
       "      <td>-1.000000</td>\n",
       "      <td>-1.000000</td>\n",
       "      <td>-1.000000</td>\n",
       "      <td>-1.000000</td>\n",
       "      <td>-1.000000</td>\n",
       "      <td>-1.000000</td>\n",
       "      <td>-1.000000</td>\n",
       "      <td>-1.000000</td>\n",
       "      <td>-1.000000</td>\n",
       "      <td>-1.000000</td>\n",
       "      <td>-1.000000</td>\n",
       "      <td>-1.000000</td>\n",
       "      <td>-1.000000</td>\n",
       "      <td>-1.000000</td>\n",
       "      <td>-1.000000</td>\n",
       "      <td>-1.000</td>\n",
       "      <td>-1.000000</td>\n",
       "      <td>-1.000000</td>\n",
       "      <td>-1.000000</td>\n",
       "      <td>-1.000000</td>\n",
       "      <td>-1.00000</td>\n",
       "      <td>-1.000000</td>\n",
       "      <td>0.0</td>\n",
       "    </tr>\n",
       "  </tbody>\n",
       "</table>\n",
       "</div>"
      ],
      "text/plain": [
       "   ID_PACIENTE    GRUPO Sexo  ...      VCM  Volume plaquetário médio  SEXO\n",
       "0            0  GRUPO_0    M  ...  0.51448                  0.372549   1.0\n",
       "1            1  GRUPO_0    M  ...  0.46678                  0.411765   1.0\n",
       "2            2  GRUPO_0    F  ... -1.00000                 -1.000000   0.0\n",
       "\n",
       "[3 rows x 32 columns]"
      ]
     },
     "execution_count": 14,
     "metadata": {},
     "output_type": "execute_result"
    }
   ],
   "source": [
    "df1['ID_PACIENTE'] = list(range(df1.shape[0]))\n",
    "\n",
    "df1.head(3)"
   ]
  },
  {
   "cell_type": "markdown",
   "metadata": {
    "id": "rT5i4DYAxtRu"
   },
   "source": [
    "# 2.0 - Identificação e Criação da Rede"
   ]
  },
  {
   "cell_type": "code",
   "execution_count": null,
   "metadata": {
    "id": "6dG5CUKyiQYf"
   },
   "outputs": [],
   "source": [
    "df2 = df1.copy()"
   ]
  },
  {
   "cell_type": "code",
   "execution_count": null,
   "metadata": {
    "id": "P7zKXebvcLBh"
   },
   "outputs": [],
   "source": [
    "exames = ['ALT (TGP)', 'Proteína C-Reativa', 'AST (TGO)', 'Idade', 'Creatinina', 'Uréia', 'RDW', 'Potássio', 'Eritrócitos', 'Neutrófilos']"
   ]
  },
  {
   "cell_type": "markdown",
   "metadata": {
    "id": "As2xckoYvZbf"
   },
   "source": [
    "Simulação da estrutura de dados e as conexões que serão feitas\n"
   ]
  },
  {
   "cell_type": "code",
   "execution_count": null,
   "metadata": {
    "colab": {
     "base_uri": "https://localhost:8080/"
    },
    "id": "29jT2or86kA9",
    "outputId": "70d50c2d-8a31-48cb-8af3-b3cc17fdb57b"
   },
   "outputs": [
    {
     "data": {
      "text/plain": [
       "[(0, 2), (1, 2), (1, 3)]"
      ]
     },
     "execution_count": 17,
     "metadata": {},
     "output_type": "execute_result"
    }
   ],
   "source": [
    "teste = {\n",
    "  \"0\": {\n",
    "    \"1\": 3,\n",
    "    \"2\": 8,\n",
    "    \"3\": 6\n",
    "  },\n",
    "  \"1\": {\n",
    "    \"2\": 9,\n",
    "    \"3\": 7,\n",
    "    \"4\": 6\n",
    "  }\n",
    "}\n",
    "\n",
    "edg = []\n",
    "for i in range(2):\n",
    "    pontuacao_dos_vertices = teste[f\"{i}\"]\n",
    "    for vertice in pontuacao_dos_vertices.keys():\n",
    "        if pontuacao_dos_vertices[vertice] > 6:\n",
    "            edg.append((i,int(vertice)))\n",
    "edg"
   ]
  },
  {
   "cell_type": "markdown",
   "metadata": {
    "id": "J3Kyy_VwVJoN"
   },
   "source": [
    "Define o range para criação da rede."
   ]
  },
  {
   "cell_type": "code",
   "execution_count": null,
   "metadata": {
    "id": "v3yATbF9VJB1"
   },
   "outputs": [],
   "source": [
    "std_dict = altera_range(df1_sem_preencher_valores_nulos, 4)"
   ]
  },
  {
   "cell_type": "markdown",
   "metadata": {
    "id": "pmpu5MfgHD5h"
   },
   "source": [
    "Cria toda estrutura de pontuacao para saber quantos exames em comum cada vértice possui com os demais, baseando-se no range definido acima."
   ]
  },
  {
   "cell_type": "code",
   "execution_count": null,
   "metadata": {
    "id": "wif0M1efGJtV"
   },
   "outputs": [],
   "source": [
    "cria_estrutura_de_pontuacao()"
   ]
  },
  {
   "cell_type": "markdown",
   "metadata": {
    "id": "R9DmBp0BHKs3"
   },
   "source": [
    "Carrega a estrutura salva em um arquivo JSON realizada no passo anterior ."
   ]
  },
  {
   "cell_type": "code",
   "execution_count": null,
   "metadata": {
    "id": "C2KRzPRNHB5n"
   },
   "outputs": [],
   "source": [
    "estrutura = load_estrutura_de_pontuacao()"
   ]
  },
  {
   "cell_type": "markdown",
   "metadata": {
    "id": "NZ_LSD3UHUWJ"
   },
   "source": [
    "Cria a rede baseada na estrutura de pontuacao, definindo o número de exames em comum desejado."
   ]
  },
  {
   "cell_type": "code",
   "execution_count": null,
   "metadata": {
    "id": "AWWeQLuL7jmp"
   },
   "outputs": [],
   "source": [
    "edge_list = define_conexoes_entre_vertices(estrutura, 6)\n",
    "\n",
    "graph = ig.Graph()\n",
    "\n",
    "graph.add_vertices(df2.shape[0])\n",
    "graph.add_edges(edge_list)"
   ]
  },
  {
   "cell_type": "markdown",
   "metadata": {
    "id": "pJ2hGtRkHb_t"
   },
   "source": [
    "Descrição básica da rede"
   ]
  },
  {
   "cell_type": "code",
   "execution_count": null,
   "metadata": {
    "colab": {
     "base_uri": "https://localhost:8080/"
    },
    "id": "QYLybhPP8Hwr",
    "outputId": "14a6db28-4929-4570-ac97-be06a9113022"
   },
   "outputs": [
    {
     "data": {
      "text/plain": [
       "{'amount_edges': 317658, 'amount_vertices': 4320, 'diameter': 8}"
      ]
     },
     "execution_count": 22,
     "metadata": {},
     "output_type": "execute_result"
    }
   ],
   "source": [
    "graph_network_description(graph)"
   ]
  },
  {
   "cell_type": "code",
   "execution_count": null,
   "metadata": {
    "colab": {
     "base_uri": "https://localhost:8080/"
    },
    "id": "Hp_RcZsI-iJk",
    "outputId": "178cc0dc-5634-49ed-c55b-f1cb4437f472"
   },
   "outputs": [
    {
     "name": "stdout",
     "output_type": "stream",
     "text": [
      "Quantidade de vértices com grau 0: 126\n"
     ]
    }
   ],
   "source": [
    "cont = 0\n",
    "for grau in graph.degree():\n",
    "    if grau == 0:\n",
    "        cont = cont+1\n",
    "\n",
    "print('Quantidade de vértices com grau 0:', cont)"
   ]
  },
  {
   "cell_type": "code",
   "execution_count": null,
   "metadata": {
    "colab": {
     "base_uri": "https://localhost:8080/"
    },
    "id": "WhG9qBfi-qKp",
    "outputId": "477bb693-f139-400d-9fb4-7fa613d428f6"
   },
   "outputs": [
    {
     "name": "stdout",
     "output_type": "stream",
     "text": [
      "Grau médio da rede:  147.064\n"
     ]
    }
   ],
   "source": [
    "print('Grau médio da rede: ', round(ig.mean(graph.degree()), 3))"
   ]
  },
  {
   "cell_type": "markdown",
   "metadata": {
    "id": "81wJOrfLICvU"
   },
   "source": [
    "# 3.0 - Amostragem da Rede"
   ]
  },
  {
   "cell_type": "code",
   "execution_count": null,
   "metadata": {
    "id": "T2-Rwn-8N5bV"
   },
   "outputs": [],
   "source": [
    "df3 = df2.copy()"
   ]
  },
  {
   "cell_type": "markdown",
   "metadata": {
    "id": "rwg8kQxHNyu_"
   },
   "source": [
    "## 3.1 - Identificar grupo do vértice"
   ]
  },
  {
   "cell_type": "markdown",
   "metadata": {
    "id": "xnzPn1_zNuDV"
   },
   "source": [
    "Identifica qual grupo pertence o vértice e define uma marcação nele"
   ]
  },
  {
   "cell_type": "code",
   "execution_count": null,
   "metadata": {
    "colab": {
     "base_uri": "https://localhost:8080/"
    },
    "id": "t-fKuk0zNkax",
    "outputId": "72e3d0a7-3630-4498-9aed-6c96ad27889a"
   },
   "outputs": [
    {
     "name": "stderr",
     "output_type": "stream",
     "text": [
      "/usr/local/lib/python3.7/dist-packages/ipykernel_launcher.py:2: SettingWithCopyWarning: \n",
      "A value is trying to be set on a copy of a slice from a DataFrame.\n",
      "Try using .loc[row_indexer,col_indexer] = value instead\n",
      "\n",
      "See the caveats in the documentation: https://pandas.pydata.org/pandas-docs/stable/user_guide/indexing.html#returning-a-view-versus-a-copy\n",
      "  \n"
     ]
    }
   ],
   "source": [
    "df3_aux = df3[['ID_PACIENTE','GRUPO']]\n",
    "df3_aux['CLUSTER'] = df3['GRUPO'].apply(lambda x: define_grupo(x))\n",
    "\n",
    "group_clusters = df3_aux['CLUSTER'].values\n",
    "graph.vs['grupo'] = group_clusters"
   ]
  },
  {
   "cell_type": "markdown",
   "metadata": {
    "id": "jzqKEHBJN9-e"
   },
   "source": [
    "## 3.2 - Amostragem"
   ]
  },
  {
   "cell_type": "markdown",
   "metadata": {
    "id": "dyP4h3C1FdwR"
   },
   "source": [
    "Iremos amostrar redes com n = 1000, e gerar pelo menos umas 100 redes com a  quantidade n de vértices, porém, de forma aleatória."
   ]
  },
  {
   "cell_type": "markdown",
   "metadata": {
    "id": "7cXIurnsm4YZ"
   },
   "source": [
    "Esse snap irá construir uma DataFrame com amostras de 100 redes, com suas respectivas propriedades"
   ]
  },
  {
   "cell_type": "code",
   "execution_count": null,
   "metadata": {
    "id": "pJZ9jJC3pRoC"
   },
   "outputs": [],
   "source": [
    "def amostrar_rede(sample_graph, must_sample=False):\n",
    "    network_list = []\n",
    "    degree_list = []\n",
    "    vertices_count_list = []\n",
    "    cc_list = []\n",
    "    apl_list = []\n",
    "    degree_variance_list = []\n",
    "    vertices_zero_degree_list = []\n",
    "\n",
    "    for n in range(100):\n",
    "    if must_sample:\n",
    "        random_vertices = random.sample(range(1, df2.shape[0]), network_len)\n",
    "        sample_graph = graph.subgraph(random_vertices)\n",
    "\n",
    "    # Calcula quantidade de vértices com grau 0 antes de analisar seu componente gigante\n",
    "    vertices_zero_degree = functools.reduce(lambda acc, grau: acc + 1 if grau == 0 else acc + 0, sample_graph.degree(), 0)\n",
    "  \n",
    "    # Pega o componente gigante dessa amostra\n",
    "    sample_graph = sample_graph.clusters().giant()\n",
    "\n",
    "    # Número de vértices \n",
    "    vertices_count_list.append(sample_graph.vcount())\n",
    "\n",
    "    # Calcula o grau médio da rede\n",
    "    degree_distribution = sample_graph.degree()\n",
    "    average_degree = round(ig.mean(degree_distribution), 3)\n",
    "    \n",
    "    # Calcula a variância do grau da rede\n",
    "    degree_variance = round(np.var(degree_distribution), 3)\n",
    "\n",
    "    # Calcula o coeficiente de agrupamento da rede\n",
    "    cc = ig.GraphBase.transitivity_local_undirected(sample_graph)\n",
    "    cc = round(np.mean([coeficiente for coeficiente in cc if not math.isnan(coeficiente)]), 3)\n",
    "\n",
    "    # Calcula o caminho médio entre os vértices\n",
    "    apl = round(ig.GraphBase.average_path_length(sample_graph),3)\n",
    "\n",
    "    network_list.append(sample_graph)\n",
    "    degree_list.append(average_degree)\n",
    "    cc_list.append(cc)\n",
    "    apl_list.append(apl)\n",
    "    degree_variance_list.append(degree_variance)\n",
    "    vertices_zero_degree_list.append(vertices_zero_degree)\n",
    "\n",
    "    return pd.DataFrame({\n",
    "      'network': network_list, \n",
    "      'vertices_count': vertices_count_list,\n",
    "      'average_degree': degree_list, \n",
    "      'cc': cc_list, \n",
    "      'apl': apl_list, \n",
    "      'degree_variance': degree_variance_list,\n",
    "      'vertices_zero_degree': vertices_zero_degree_list\n",
    "    })"
   ]
  },
  {
   "cell_type": "code",
   "execution_count": null,
   "metadata": {
    "id": "sbbZj6LPI3BR"
   },
   "outputs": [],
   "source": [
    "network_len = 1000\n",
    "\n",
    "df_sample = amostrar_rede(graph, True)"
   ]
  },
  {
   "cell_type": "markdown",
   "metadata": {
    "id": "iL032jWUlDe-"
   },
   "source": [
    "A tabela abaixo mostra um pouco da descrição do grau médio e da quantidade de vértice, perceba que o seu desvio padrão não é muito alto. Logo, nossas redes amostradas tendem a possuir um grau médio parecido. Assim como o número de vértices amostrados que também não tende a oscilar muito."
   ]
  },
  {
   "cell_type": "code",
   "execution_count": null,
   "metadata": {
    "colab": {
     "base_uri": "https://localhost:8080/",
     "height": 295
    },
    "id": "YLP53eszVauE",
    "outputId": "1f098830-4042-47e5-f1d8-5af1140b45c1"
   },
   "outputs": [
    {
     "data": {
      "text/html": [
       "<div>\n",
       "<style scoped>\n",
       "    .dataframe tbody tr th:only-of-type {\n",
       "        vertical-align: middle;\n",
       "    }\n",
       "\n",
       "    .dataframe tbody tr th {\n",
       "        vertical-align: top;\n",
       "    }\n",
       "\n",
       "    .dataframe thead th {\n",
       "        text-align: right;\n",
       "    }\n",
       "</style>\n",
       "<table border=\"1\" class=\"dataframe\">\n",
       "  <thead>\n",
       "    <tr style=\"text-align: right;\">\n",
       "      <th></th>\n",
       "      <th>average_degree</th>\n",
       "      <th>vertices_count</th>\n",
       "      <th>cc</th>\n",
       "      <th>degree_variance</th>\n",
       "      <th>vertices_zero_degree</th>\n",
       "    </tr>\n",
       "  </thead>\n",
       "  <tbody>\n",
       "    <tr>\n",
       "      <th>count</th>\n",
       "      <td>100.000000</td>\n",
       "      <td>100.000000</td>\n",
       "      <td>100.000000</td>\n",
       "      <td>100.000000</td>\n",
       "      <td>100.000000</td>\n",
       "    </tr>\n",
       "    <tr>\n",
       "      <th>mean</th>\n",
       "      <td>37.832090</td>\n",
       "      <td>917.660000</td>\n",
       "      <td>0.327050</td>\n",
       "      <td>2816.060360</td>\n",
       "      <td>78.170000</td>\n",
       "    </tr>\n",
       "    <tr>\n",
       "      <th>std</th>\n",
       "      <td>3.114928</td>\n",
       "      <td>8.858278</td>\n",
       "      <td>0.012039</td>\n",
       "      <td>480.983179</td>\n",
       "      <td>8.177396</td>\n",
       "    </tr>\n",
       "    <tr>\n",
       "      <th>min</th>\n",
       "      <td>30.223000</td>\n",
       "      <td>889.000000</td>\n",
       "      <td>0.302000</td>\n",
       "      <td>1696.908000</td>\n",
       "      <td>63.000000</td>\n",
       "    </tr>\n",
       "    <tr>\n",
       "      <th>25%</th>\n",
       "      <td>35.697250</td>\n",
       "      <td>911.000000</td>\n",
       "      <td>0.318750</td>\n",
       "      <td>2454.495500</td>\n",
       "      <td>71.000000</td>\n",
       "    </tr>\n",
       "    <tr>\n",
       "      <th>50%</th>\n",
       "      <td>38.137500</td>\n",
       "      <td>918.000000</td>\n",
       "      <td>0.329000</td>\n",
       "      <td>2813.768000</td>\n",
       "      <td>78.000000</td>\n",
       "    </tr>\n",
       "    <tr>\n",
       "      <th>75%</th>\n",
       "      <td>40.405250</td>\n",
       "      <td>925.000000</td>\n",
       "      <td>0.335000</td>\n",
       "      <td>3135.955250</td>\n",
       "      <td>85.000000</td>\n",
       "    </tr>\n",
       "    <tr>\n",
       "      <th>max</th>\n",
       "      <td>44.135000</td>\n",
       "      <td>934.000000</td>\n",
       "      <td>0.358000</td>\n",
       "      <td>4018.110000</td>\n",
       "      <td>97.000000</td>\n",
       "    </tr>\n",
       "  </tbody>\n",
       "</table>\n",
       "</div>"
      ],
      "text/plain": [
       "       average_degree  vertices_count  ...  degree_variance  vertices_zero_degree\n",
       "count      100.000000      100.000000  ...       100.000000            100.000000\n",
       "mean        37.832090      917.660000  ...      2816.060360             78.170000\n",
       "std          3.114928        8.858278  ...       480.983179              8.177396\n",
       "min         30.223000      889.000000  ...      1696.908000             63.000000\n",
       "25%         35.697250      911.000000  ...      2454.495500             71.000000\n",
       "50%         38.137500      918.000000  ...      2813.768000             78.000000\n",
       "75%         40.405250      925.000000  ...      3135.955250             85.000000\n",
       "max         44.135000      934.000000  ...      4018.110000             97.000000\n",
       "\n",
       "[8 rows x 5 columns]"
      ]
     },
     "execution_count": 29,
     "metadata": {},
     "output_type": "execute_result"
    }
   ],
   "source": [
    "df_sample[['average_degree', 'vertices_count', 'cc', 'degree_variance', 'vertices_zero_degree']].describe()"
   ]
  },
  {
   "cell_type": "markdown",
   "metadata": {
    "id": "QeNgwvcyIrIG"
   },
   "source": [
    "# 4.0 - Modularidade"
   ]
  },
  {
   "cell_type": "markdown",
   "metadata": {
    "id": "vDSH8ypW5EfY"
   },
   "source": [
    "## 4.1 - Modularidade de Referência (4 Grupos) e FastGreedy"
   ]
  },
  {
   "cell_type": "markdown",
   "metadata": {
    "id": "z7wOgxpXb7z9"
   },
   "source": [
    "Modularidade de referência da rede original (TOTAL) com os grupos separados manualmente [0,1,2,3]."
   ]
  },
  {
   "cell_type": "code",
   "execution_count": null,
   "metadata": {
    "colab": {
     "base_uri": "https://localhost:8080/"
    },
    "id": "i1oHU-J-AfZ3",
    "outputId": "c4b6abee-3445-4a89-b262-c799c090a571"
   },
   "outputs": [
    {
     "data": {
      "text/plain": [
       "0.00328"
      ]
     },
     "execution_count": 30,
     "metadata": {},
     "output_type": "execute_result"
    }
   ],
   "source": [
    "clusters = graph.vs['grupo']\n",
    "modularity_with_cluster(graph, clusters)"
   ]
  },
  {
   "cell_type": "markdown",
   "metadata": {
    "id": "NVQVpfGWcCc6"
   },
   "source": [
    "Modularidade obtida pelo algoritmo fast_greedy"
   ]
  },
  {
   "cell_type": "code",
   "execution_count": null,
   "metadata": {
    "colab": {
     "base_uri": "https://localhost:8080/"
    },
    "id": "13GG_J2gClwE",
    "outputId": "7f57722d-a179-4bf9-ed82-212f868d6c7c"
   },
   "outputs": [
    {
     "data": {
      "text/plain": [
       "(0.34827, 134)"
      ]
     },
     "execution_count": 31,
     "metadata": {},
     "output_type": "execute_result"
    }
   ],
   "source": [
    "fast_greedy_modularity(graph.as_undirected())"
   ]
  },
  {
   "cell_type": "code",
   "execution_count": null,
   "metadata": {
    "colab": {
     "base_uri": "https://localhost:8080/"
    },
    "id": "Gk4BWm2wUH3O",
    "outputId": "dd3f99bd-5524-4c23-9a07-b987a53418a9"
   },
   "outputs": [
    {
     "data": {
      "text/plain": [
       "0.34827"
      ]
     },
     "execution_count": 32,
     "metadata": {},
     "output_type": "execute_result"
    }
   ],
   "source": [
    "fast_greedy_modularity(graph.as_undirected())[0]"
   ]
  },
  {
   "cell_type": "markdown",
   "metadata": {
    "id": "xmLKehST44hT"
   },
   "source": [
    "Calcula modularidade de referência e fastgreedy para cada instância da rede"
   ]
  },
  {
   "cell_type": "code",
   "execution_count": null,
   "metadata": {
    "id": "DP_rB0qYwn2B"
   },
   "outputs": [],
   "source": [
    "df_sample['modularity_fastgreedy'] = df_sample['network'].apply(lambda x: fast_greedy_modularity(x.as_undirected())[0])\n",
    "df_sample['clusters_modularity_fg'] = df_sample['network'].apply(lambda x: fast_greedy_modularity(x.as_undirected())[1])\n",
    "\n",
    "df_sample['reference_modularity'] = df_sample['network'].apply(lambda x: modularity_with_cluster(x.as_undirected(), x.vs['grupo']))"
   ]
  },
  {
   "cell_type": "code",
   "execution_count": null,
   "metadata": {
    "colab": {
     "base_uri": "https://localhost:8080/",
     "height": 287
    },
    "id": "5Mo85d57Z9dr",
    "outputId": "d675b41e-db82-45a5-8ba7-451818da3b11"
   },
   "outputs": [
    {
     "data": {
      "text/html": [
       "<div>\n",
       "<style scoped>\n",
       "    .dataframe tbody tr th:only-of-type {\n",
       "        vertical-align: middle;\n",
       "    }\n",
       "\n",
       "    .dataframe tbody tr th {\n",
       "        vertical-align: top;\n",
       "    }\n",
       "\n",
       "    .dataframe thead th {\n",
       "        text-align: right;\n",
       "    }\n",
       "</style>\n",
       "<table border=\"1\" class=\"dataframe\">\n",
       "  <thead>\n",
       "    <tr style=\"text-align: right;\">\n",
       "      <th></th>\n",
       "      <th>network</th>\n",
       "      <th>vertices_count</th>\n",
       "      <th>average_degree</th>\n",
       "      <th>cc</th>\n",
       "      <th>apl</th>\n",
       "      <th>degree_variance</th>\n",
       "      <th>vertices_zero_degree</th>\n",
       "      <th>modularity_fastgreedy</th>\n",
       "      <th>clusters_modularity_fg</th>\n",
       "      <th>reference_modularity</th>\n",
       "    </tr>\n",
       "  </thead>\n",
       "  <tbody>\n",
       "    <tr>\n",
       "      <th>0</th>\n",
       "      <td>IGRAPH U--- 904 16922 --\\n+ attr: grupo (v)\\n+...</td>\n",
       "      <td>904</td>\n",
       "      <td>37.438</td>\n",
       "      <td>0.325</td>\n",
       "      <td>3.363</td>\n",
       "      <td>2795.306</td>\n",
       "      <td>91</td>\n",
       "      <td>0.31800</td>\n",
       "      <td>4</td>\n",
       "      <td>0.00309</td>\n",
       "    </tr>\n",
       "    <tr>\n",
       "      <th>1</th>\n",
       "      <td>IGRAPH U--- 918 18771 --\\n+ attr: grupo (v)\\n+...</td>\n",
       "      <td>918</td>\n",
       "      <td>40.895</td>\n",
       "      <td>0.334</td>\n",
       "      <td>3.368</td>\n",
       "      <td>3237.407</td>\n",
       "      <td>80</td>\n",
       "      <td>0.30823</td>\n",
       "      <td>3</td>\n",
       "      <td>0.00154</td>\n",
       "    </tr>\n",
       "    <tr>\n",
       "      <th>2</th>\n",
       "      <td>IGRAPH U--- 909 17998 --\\n+ attr: grupo (v)\\n+...</td>\n",
       "      <td>909</td>\n",
       "      <td>39.600</td>\n",
       "      <td>0.332</td>\n",
       "      <td>3.379</td>\n",
       "      <td>2997.450</td>\n",
       "      <td>85</td>\n",
       "      <td>0.34090</td>\n",
       "      <td>4</td>\n",
       "      <td>0.00116</td>\n",
       "    </tr>\n",
       "    <tr>\n",
       "      <th>3</th>\n",
       "      <td>IGRAPH U--- 902 17658 --\\n+ attr: grupo (v)\\n+...</td>\n",
       "      <td>902</td>\n",
       "      <td>39.153</td>\n",
       "      <td>0.329</td>\n",
       "      <td>3.384</td>\n",
       "      <td>3023.562</td>\n",
       "      <td>92</td>\n",
       "      <td>0.31315</td>\n",
       "      <td>5</td>\n",
       "      <td>0.00034</td>\n",
       "    </tr>\n",
       "    <tr>\n",
       "      <th>4</th>\n",
       "      <td>IGRAPH U--- 920 17757 --\\n+ attr: grupo (v)\\n+...</td>\n",
       "      <td>920</td>\n",
       "      <td>38.602</td>\n",
       "      <td>0.320</td>\n",
       "      <td>3.369</td>\n",
       "      <td>2931.544</td>\n",
       "      <td>78</td>\n",
       "      <td>0.32458</td>\n",
       "      <td>4</td>\n",
       "      <td>0.00285</td>\n",
       "    </tr>\n",
       "  </tbody>\n",
       "</table>\n",
       "</div>"
      ],
      "text/plain": [
       "                                             network  ...  reference_modularity\n",
       "0  IGRAPH U--- 904 16922 --\\n+ attr: grupo (v)\\n+...  ...               0.00309\n",
       "1  IGRAPH U--- 918 18771 --\\n+ attr: grupo (v)\\n+...  ...               0.00154\n",
       "2  IGRAPH U--- 909 17998 --\\n+ attr: grupo (v)\\n+...  ...               0.00116\n",
       "3  IGRAPH U--- 902 17658 --\\n+ attr: grupo (v)\\n+...  ...               0.00034\n",
       "4  IGRAPH U--- 920 17757 --\\n+ attr: grupo (v)\\n+...  ...               0.00285\n",
       "\n",
       "[5 rows x 10 columns]"
      ]
     },
     "execution_count": 34,
     "metadata": {},
     "output_type": "execute_result"
    }
   ],
   "source": [
    "df_sample.head(5)"
   ]
  },
  {
   "cell_type": "code",
   "execution_count": null,
   "metadata": {
    "colab": {
     "base_uri": "https://localhost:8080/",
     "height": 295
    },
    "id": "yAyZgYU1sDOa",
    "outputId": "c641073d-aec1-4c85-edd7-cfa78fa5c460"
   },
   "outputs": [
    {
     "data": {
      "text/html": [
       "<div>\n",
       "<style scoped>\n",
       "    .dataframe tbody tr th:only-of-type {\n",
       "        vertical-align: middle;\n",
       "    }\n",
       "\n",
       "    .dataframe tbody tr th {\n",
       "        vertical-align: top;\n",
       "    }\n",
       "\n",
       "    .dataframe thead th {\n",
       "        text-align: right;\n",
       "    }\n",
       "</style>\n",
       "<table border=\"1\" class=\"dataframe\">\n",
       "  <thead>\n",
       "    <tr style=\"text-align: right;\">\n",
       "      <th></th>\n",
       "      <th>modularity_fastgreedy</th>\n",
       "      <th>clusters_modularity_fg</th>\n",
       "      <th>reference_modularity</th>\n",
       "    </tr>\n",
       "  </thead>\n",
       "  <tbody>\n",
       "    <tr>\n",
       "      <th>count</th>\n",
       "      <td>100.000000</td>\n",
       "      <td>100.000000</td>\n",
       "      <td>100.000000</td>\n",
       "    </tr>\n",
       "    <tr>\n",
       "      <th>mean</th>\n",
       "      <td>0.332371</td>\n",
       "      <td>4.000000</td>\n",
       "      <td>0.002824</td>\n",
       "    </tr>\n",
       "    <tr>\n",
       "      <th>std</th>\n",
       "      <td>0.025283</td>\n",
       "      <td>1.271283</td>\n",
       "      <td>0.001621</td>\n",
       "    </tr>\n",
       "    <tr>\n",
       "      <th>min</th>\n",
       "      <td>0.269600</td>\n",
       "      <td>2.000000</td>\n",
       "      <td>-0.000570</td>\n",
       "    </tr>\n",
       "    <tr>\n",
       "      <th>25%</th>\n",
       "      <td>0.312248</td>\n",
       "      <td>3.000000</td>\n",
       "      <td>0.001800</td>\n",
       "    </tr>\n",
       "    <tr>\n",
       "      <th>50%</th>\n",
       "      <td>0.333505</td>\n",
       "      <td>4.000000</td>\n",
       "      <td>0.002755</td>\n",
       "    </tr>\n",
       "    <tr>\n",
       "      <th>75%</th>\n",
       "      <td>0.345962</td>\n",
       "      <td>5.000000</td>\n",
       "      <td>0.003683</td>\n",
       "    </tr>\n",
       "    <tr>\n",
       "      <th>max</th>\n",
       "      <td>0.403720</td>\n",
       "      <td>9.000000</td>\n",
       "      <td>0.007740</td>\n",
       "    </tr>\n",
       "  </tbody>\n",
       "</table>\n",
       "</div>"
      ],
      "text/plain": [
       "       modularity_fastgreedy  clusters_modularity_fg  reference_modularity\n",
       "count             100.000000              100.000000            100.000000\n",
       "mean                0.332371                4.000000              0.002824\n",
       "std                 0.025283                1.271283              0.001621\n",
       "min                 0.269600                2.000000             -0.000570\n",
       "25%                 0.312248                3.000000              0.001800\n",
       "50%                 0.333505                4.000000              0.002755\n",
       "75%                 0.345962                5.000000              0.003683\n",
       "max                 0.403720                9.000000              0.007740"
      ]
     },
     "execution_count": 35,
     "metadata": {},
     "output_type": "execute_result"
    }
   ],
   "source": [
    "df_sample[['modularity_fastgreedy', 'clusters_modularity_fg', 'reference_modularity']].describe()"
   ]
  },
  {
   "cell_type": "markdown",
   "metadata": {
    "id": "_EovOUeIoinD"
   },
   "source": [
    "# 5.0 - Comparação com modelos da literatura"
   ]
  },
  {
   "cell_type": "code",
   "execution_count": null,
   "metadata": {
    "id": "tPG9aMqqvbGz"
   },
   "outputs": [],
   "source": [
    "def model_comparison(df_sample, df_er, df_ba, df_ws, denominador):\n",
    "\n",
    "    average_degree_list = []\n",
    "    cc_list = []\n",
    "    apl_list = []\n",
    "    degree_variance_list = []\n",
    "    vertices_zero_degree_list = []\n",
    "\n",
    "    average_degree_list.append(np.mean(df_sample['average_degree'].values))\n",
    "    cc_list.append(np.mean(df_sample['cc'].values))\n",
    "    degree_variance_list.append(np.mean(df_sample['degree_variance'].values))\n",
    "    apl_list.append(np.mean(df_sample['apl'].values))\n",
    "    vertices_zero_degree_list.append(np.mean(df_sample['vertices_zero_degree'].values))\n",
    "\n",
    "    average_degree_list.append(np.mean(df_er['average_degree'].values))\n",
    "    cc_list.append(np.mean(df_er['cc'].values))\n",
    "    degree_variance_list.append(np.mean(df_er['degree_variance'].values))\n",
    "    apl_list.append(np.mean(df_er['apl'].values))\n",
    "    vertices_zero_degree_list.append(np.mean(df_er['vertices_zero_degree'].values))\n",
    "\n",
    "    average_degree_list.append(np.mean(df_ba['average_degree'].values))\n",
    "    cc_list.append(np.mean(df_ba['cc'].values))\n",
    "    degree_variance_list.append(np.mean(df_ba['degree_variance'].values))\n",
    "    apl_list.append(np.mean(df_ba['apl'].values))\n",
    "    vertices_zero_degree_list.append(np.mean(df_ba['vertices_zero_degree'].values))\n",
    "\n",
    "    average_degree_list.append(np.mean(df_ws['average_degree'].values))\n",
    "    cc_list.append(np.mean(df_ws['cc'].values))\n",
    "    degree_variance_list.append(np.mean(df_ws['degree_variance'].values))\n",
    "    apl_list.append(np.mean(df_ws['apl'].values))\n",
    "    vertices_zero_degree_list.append(np.mean(df_ws['vertices_zero_degree'].values))\n",
    "\n",
    "    df_comparison = pd.DataFrame({'network': ['Exame Network', 'Erdos-Rényi', 'Barabasi-Albert','Watts Strogats'],\n",
    "                                'average_degree': average_degree_list,\n",
    "                                'CC': cc_list,\n",
    "                                'APL': apl_list,\n",
    "                                'degree_variance': degree_variance_list,\n",
    "                                'vertices_zero_degree': vertices_zero_degree_list\n",
    "                                })\n",
    "\n",
    "    df_comparison.to_csv(f'model_comparison_denominador_{denominador}.csv', sep=',', index=False)"
   ]
  },
  {
   "cell_type": "markdown",
   "metadata": {
    "id": "xzWDN4fHDJ6E"
   },
   "source": [
    "Executar esse snippet se quiser realizar a comparação das redes variando o denominador de de 1 até 10."
   ]
  },
  {
   "cell_type": "code",
   "execution_count": null,
   "metadata": {
    "id": "DEC7cNFvyeYK"
   },
   "outputs": [],
   "source": [
    "for i in range(1,11):\n",
    "    std_dict = altera_range(df1_sem_preencher_valores_nulos, i)\n",
    "\n",
    "    cria_estrutura_de_pontuacao()\n",
    "    estrutura = load_estrutura_de_pontuacao()\n",
    "\n",
    "    edge_list = define_conexoes_entre_vertices(estrutura, quantidade_de_exames_similares=6)\n",
    "\n",
    "    graph = ig.Graph()\n",
    "\n",
    "    graph.add_vertices(df2.shape[0])\n",
    "    graph.add_edges(edge_list)\n",
    "\n",
    "    network_len = 1000\n",
    "    df_sample = amostrar_rede(graph, True)\n",
    "\n",
    "    degree_mean = round(np.mean(df_sample['average_degree'].values))\n",
    "\n",
    "    graph_er = ig.Graph.Erdos_Renyi(n=network_len, p=(degree_mean/network_len))\n",
    "    df_er = amostrar_rede(graph_er)\n",
    "\n",
    "    graph_ba = ig.Graph.Barabasi(n=network_len, m=math.ceil(degree_mean/2))\n",
    "    df_ba = amostrar_rede(graph_ba)\n",
    "\n",
    "    graph_ws = ig.Graph.Watts_Strogatz(dim=1, size=network_len, nei=math.ceil(degree_mean/2), p=(degree_mean/network_len))\n",
    "    df_ws = amostrar_rede(graph_ws)\n",
    "\n",
    "    model_comparison(df_sample, df_er, df_ba, df_ws, i)"
   ]
  },
  {
   "cell_type": "markdown",
   "metadata": {
    "id": "65BL-vdJDBhA"
   },
   "source": [
    "## 5.1 - Análise dos resultados"
   ]
  },
  {
   "cell_type": "code",
   "execution_count": 24,
   "metadata": {
    "ExecuteTime": {
     "end_time": "2022-03-29T23:23:22.136801Z",
     "start_time": "2022-03-29T23:23:22.065906Z"
    },
    "colab": {
     "base_uri": "https://localhost:8080/"
    },
    "id": "kWdTqq7poAez",
    "outputId": "0e81a455-254c-45e7-83a5-725df8823cee"
   },
   "outputs": [
    {
     "name": "stdout",
     "output_type": "stream",
     "text": [
      "model_comparison_denominador_01.csv\n",
      "model_comparison_denominador_02.csv\n",
      "model_comparison_denominador_03.csv\n",
      "model_comparison_denominador_04.csv\n",
      "model_comparison_denominador_05.csv\n",
      "model_comparison_denominador_06.csv\n",
      "model_comparison_denominador_07.csv\n",
      "model_comparison_denominador_08.csv\n",
      "model_comparison_denominador_09.csv\n",
      "model_comparison_denominador_10.csv\n"
     ]
    }
   ],
   "source": [
    "path = 'network_comparison_2'\n",
    "csv_files = sorted(os.listdir(path))\n",
    "\n",
    "df_comparison = pd.DataFrame()\n",
    "for csv_file in csv_files:\n",
    "    print(csv_file)\n",
    "    df_csv = pd.read_csv(f'{path}/{csv_file}')\n",
    "\n",
    "    df_comparison = pd.concat([df_comparison, df_csv])\n",
    "\n",
    "# Variação do grau médio pelo range\n",
    "average_degree_exame_network = df_comparison[df_comparison['network'] == 'Exame Network']['average_degree'].values\n",
    "average_degree_ER = df_comparison[df_comparison['network'] == 'Erdos-Rényi']['average_degree'].values\n",
    "average_degree_BA = df_comparison[df_comparison['network'] == 'Barabasi-Albert']['average_degree'].values\n",
    "average_degree_WS = df_comparison[df_comparison['network'] == 'Watts Strogats']['average_degree'].values\n",
    "\n",
    "# Variação do CC pelo range\n",
    "CC_exame_network = df_comparison[df_comparison['network'] == 'Exame Network']['CC'].values\n",
    "CC_ER = df_comparison[df_comparison['network'] == 'Erdos-Rényi']['CC'].values\n",
    "CC_BA = df_comparison[df_comparison['network'] == 'Barabasi-Albert']['CC'].values\n",
    "CC_WS = df_comparison[df_comparison['network'] == 'Watts Strogats']['CC'].values\n",
    "\n",
    "# Variação do APL pelo range\n",
    "APL_exame_network = df_comparison[df_comparison['network'] == 'Exame Network']['APL'].values\n",
    "APL_ER = df_comparison[df_comparison['network'] == 'Erdos-Rényi']['APL'].values\n",
    "APL_BA = df_comparison[df_comparison['network'] == 'Barabasi-Albert']['APL'].values\n",
    "APL_WS = df_comparison[df_comparison['network'] == 'Watts Strogats']['APL'].values\n",
    "\n",
    "# Variação do Variância do Grau pelo range\n",
    "degree_variance_exame_network = df_comparison[df_comparison['network'] == 'Exame Network']['degree_variance'].values\n",
    "degree_variance_ER = df_comparison[df_comparison['network'] == 'Erdos-Rényi']['degree_variance'].values\n",
    "degree_variance_BA = df_comparison[df_comparison['network'] == 'Barabasi-Albert']['degree_variance'].values\n",
    "degree_variance_WS = df_comparison[df_comparison['network'] == 'Watts Strogats']['degree_variance'].values"
   ]
  },
  {
   "cell_type": "code",
   "execution_count": 25,
   "metadata": {
    "ExecuteTime": {
     "end_time": "2022-03-29T23:23:24.733766Z",
     "start_time": "2022-03-29T23:23:24.243593Z"
    },
    "colab": {
     "base_uri": "https://localhost:8080/",
     "height": 525
    },
    "id": "CypYOQaqF9L_",
    "outputId": "d4f396ed-3022-41ff-a2a6-4ddef34276e1"
   },
   "outputs": [
    {
     "data": {
      "image/png": "[encoded data removed]",
      "text/plain": [
       "<Figure size 864x576 with 1 Axes>"
      ]
     },
     "metadata": {
      "needs_background": "light"
     },
     "output_type": "display_data"
    }
   ],
   "source": [
    "denominador_values = list(range(1,11))\n",
    "\n",
    "plt.figure(figsize=(12,8))\n",
    "plt.plot(denominador_values, APL_exame_network, color='green', linestyle='dashed', marker='o', markersize=10, label='APL-patients', linewidth=2)\n",
    "plt.plot(denominador_values, APL_ER, color='blue', linestyle='dashed', marker='o', markersize=10, label='APL-ER', linewidth=2)\n",
    "plt.plot(denominador_values, APL_BA, color='red', linestyle='dashed', marker='o', markersize=10, label='APL-BA', linewidth=2)\n",
    "plt.plot(denominador_values, APL_WS, color='orange', linestyle='dashed', marker='o', markersize=10, label='APL-WS', linewidth=2)\n",
    "plt.yscale('log')\n",
    "plt.legend(loc='best', prop={\"size\":13})\n",
    "plt.xlabel('Constant that divides the standard deviation',fontsize=18)\n",
    "plt.ylabel('Average Path Length - APL', fontsize=18);\n",
    "plt.title('Networks Comparison by APL', fontsize=18);   \n",
    "plt.savefig('apl.png') "
   ]
  },
  {
   "cell_type": "code",
   "execution_count": 26,
   "metadata": {
    "ExecuteTime": {
     "end_time": "2022-03-29T23:24:07.096453Z",
     "start_time": "2022-03-29T23:24:06.688277Z"
    },
    "colab": {
     "base_uri": "https://localhost:8080/",
     "height": 525
    },
    "id": "iFRHgF0RHPuh",
    "outputId": "0b046d43-3176-4911-adba-35bdbcd3e31e"
   },
   "outputs": [
    {
     "data": {
      "image/png": "[encoded data removed]",
      "text/plain": [
       "<Figure size 864x576 with 1 Axes>"
      ]
     },
     "metadata": {
      "needs_background": "light"
     },
     "output_type": "display_data"
    }
   ],
   "source": [
    "plt.figure(figsize=(12,8))\n",
    "plt.plot(denominador_values, CC_exame_network, color='green', linestyle='dashed', marker='o', markersize=10, label='CC-patients', linewidth=2)\n",
    "plt.plot(denominador_values, CC_ER, color='blue', linestyle='dashed', marker='o', markersize=10, label='CC-ER', linewidth=2)\n",
    "plt.plot(denominador_values, CC_BA, color='red', linestyle='dashed', marker='o', markersize=10, label='CC-BA', linewidth=2)\n",
    "plt.plot(denominador_values, CC_WS, color='orange', linestyle='dashed', marker='o', markersize=10, label='CC-WS', linewidth=2)\n",
    "plt.yscale('log')\n",
    "plt.legend(loc='best', prop={\"size\":13})\n",
    "plt.xlabel('Constant that divides the standard deviation', fontsize=18)\n",
    "plt.ylabel('Clustering Coefficient - CC', fontsize=18);\n",
    "plt.title(f'Networks Comparison By CC', fontsize=18);\n",
    "plt.savefig('CC.png') "
   ]
  },
  {
   "cell_type": "code",
   "execution_count": 27,
   "metadata": {
    "ExecuteTime": {
     "end_time": "2022-03-29T23:24:11.889201Z",
     "start_time": "2022-03-29T23:24:11.239729Z"
    },
    "colab": {
     "base_uri": "https://localhost:8080/",
     "height": 525
    },
    "id": "S00R8g_6JPz2",
    "outputId": "b82dd783-7231-4526-d924-1fd2f242a488"
   },
   "outputs": [
    {
     "data": {
      "image/png": "[encoded data removed]",
      "text/plain": [
       "<Figure size 864x576 with 1 Axes>"
      ]
     },
     "metadata": {
      "needs_background": "light"
     },
     "output_type": "display_data"
    }
   ],
   "source": [
    "plt.figure(figsize=(12,8))\n",
    "plt.plot(denominador_values, degree_variance_exame_network, color='green', linestyle='dashed', marker='o', markersize=10, label='DEGREE-VAR-patients', linewidth=2)\n",
    "plt.plot(denominador_values, degree_variance_ER, color='blue', linestyle='dashed', marker='o', markersize=10, label='DEGREE-VAR-ER', linewidth=2)\n",
    "plt.plot(denominador_values, degree_variance_BA, color='red', linestyle='dashed', marker='o', markersize=10, label='DEGREE-VAR-BA', linewidth=2)\n",
    "plt.plot(denominador_values, degree_variance_WS, color='orange', linestyle='dashed', marker='o', markersize=10, label='DEGREE-VAR-WS', linewidth=2)\n",
    "plt.yscale('log')\n",
    "plt.legend(loc='best', prop={\"size\":13})\n",
    "plt.xlabel('Constant that divides the standard deviation', fontsize=18)\n",
    "plt.ylabel('Degree Variance', fontsize=18);\n",
    "plt.title(f'Networks Comparison By Degree Variance', fontsize=18);\n",
    "plt.savefig('degree_variance.png') "
   ]
  },
  {
   "cell_type": "code",
   "execution_count": 28,
   "metadata": {
    "ExecuteTime": {
     "end_time": "2022-03-29T23:24:14.424117Z",
     "start_time": "2022-03-29T23:24:14.137619Z"
    },
    "colab": {
     "base_uri": "https://localhost:8080/",
     "height": 525
    },
    "id": "olMK7yiIJN3P",
    "outputId": "2dbbe586-b665-4333-dcf1-49d9dfb9fb68"
   },
   "outputs": [
    {
     "data": {
      "image/png": "[encoded data removed]",
      "text/plain": [
       "<Figure size 864x576 with 1 Axes>"
      ]
     },
     "metadata": {
      "needs_background": "light"
     },
     "output_type": "display_data"
    }
   ],
   "source": [
    "plt.figure(figsize=(12,8))\n",
    "plt.plot(denominador_values, average_degree_exame_network, color='green', linestyle='dashed', marker='o', markersize=10, label='AVG-DEGREE-patients', linewidth=2)\n",
    "plt.plot(denominador_values, average_degree_ER, color='blue', linestyle='dashed', marker='o', markersize=10, label='AVG-DEGREE-ER', linewidth=2)\n",
    "plt.plot(denominador_values, average_degree_BA, color='red', linestyle='dashed', marker='o', markersize=10, label='AVG-DEGREE-BA', linewidth=2)\n",
    "plt.plot(denominador_values, average_degree_WS, color='orange', linestyle='dashed', marker='o', markersize=10, label='AVG-DEGREE-WS', linewidth=2)\n",
    "plt.legend(loc='best', prop={\"size\":13})\n",
    "plt.xlabel('Constant that divides the standard deviation', fontsize=18)\n",
    "plt.ylabel('Average Degree', fontsize=18);\n",
    "plt.title(f'Networks Comparison By Average Degree', fontsize=18);\n",
    "plt.savefig('average_degree.png') "
   ]
  }
 ],
 "metadata": {
  "colab": {
   "collapsed_sections": [],
   "name": "Exams Network Analysis.ipynb",
   "provenance": []
  },
  "kernelspec": {
   "display_name": "Python 3 (ipykernel)",
   "language": "python",
   "name": "python3"
  },
  "language_info": {
   "codemirror_mode": {
    "name": "ipython",
    "version": 3
   },
   "file_extension": ".py",
   "mimetype": "text/x-python",
   "name": "python",
   "nbconvert_exporter": "python",
   "pygments_lexer": "ipython3",
   "version": "3.8.10"
  }
 },
 "nbformat": 4,
 "nbformat_minor": 1
}
